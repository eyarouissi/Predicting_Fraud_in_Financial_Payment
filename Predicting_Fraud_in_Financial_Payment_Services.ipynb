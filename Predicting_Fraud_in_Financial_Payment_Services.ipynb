{
  "nbformat": 4,
  "nbformat_minor": 0,
  "metadata": {
    "colab": {
      "name": "Predicting Fraud in Financial Payment Services.ipynb",
      "provenance": [],
      "collapsed_sections": []
    },
    "kernelspec": {
      "display_name": "Python 3",
      "language": "python",
      "name": "python3"
    },
    "language_info": {
      "codemirror_mode": {
        "name": "ipython",
        "version": 3
      },
      "file_extension": ".py",
      "mimetype": "text/x-python",
      "name": "python",
      "nbconvert_exporter": "python",
      "pygments_lexer": "ipython3",
      "version": "3.6.4"
    }
  },
  "cells": [
    {
      "cell_type": "markdown",
      "metadata": {
        "id": "pjqYXUN5cF1R"
      },
      "source": [
        "## Introduction\n",
        "\n",
        "**About to the data**\n",
        "\n",
        "Paysim synthetic dataset of mobile money transactions. Each step represents an hour of simulation. This dataset is scaled down 1/4 of the original dataset which is presented in the paper \"PaySim: A financial mobile money simulator for fraud detection\".\n",
        "\n",
        "https://www.kaggle.com/arjunjoshua/predicting-fraud-in-financial-payment-services/data\n",
        "\n",
        "les attributs:\n",
        "\n",
        "* step : Maps a unit of time in the real world. In this case 1 step is 1 hour of time.\n",
        "* type : CASH-IN, CASH-OUT, DEBIT, PAYMENT and TRANSFER\n",
        "* amount : amount of the transaction in local currency\n",
        "* nameOrig\t: customer who started the transaction\n",
        "* oldbalanceOrg\t: initial balance before the transaction\n",
        "* newbalanceOrig\t: customer's balance after the transaction.\n",
        "* nameDest\t: recipient ID of the transaction.\n",
        "* oldbalanceDest : initial recipient balance before the transaction.\t\n",
        "* newbalanceDest\t: recipient's balance after the transaction.\n",
        "* isFraud\t: identifies a fraudulent transaction (1) and non fraudulent (0)\n",
        "\n",
        "\n",
        "\n"
      ]
    },
    {
      "cell_type": "markdown",
      "metadata": {
        "id": "sA9GYqCicF1l"
      },
      "source": [
        "## Summary of Questions"
      ]
    },
    {
      "cell_type": "markdown",
      "metadata": {
        "id": "wsPTp-iwcF1n"
      },
      "source": [
        "**Part 1: Getting started** <font color='red'>This part was already done for you. You just need to **execute** the cells and observe the output. </font>\n",
        "\n",
        "\n",
        "**Part 2: Overview of the data**\n",
        "\n",
        "*4 Questions*\n",
        "\n",
        "\n",
        "**Part 3: Visualize Continuous Numeric Variables**\n",
        "\n",
        "*7 Questions*\n",
        "\n",
        "\n",
        "**Part 4: Visualize Discrete Numeric Variables**\n",
        "\n",
        "*5 Questions*\n",
        "\n",
        "**Part 5: Visualize Categorical Variables**\n",
        "\n",
        "*4 Questions*"
      ]
    },
    {
      "cell_type": "markdown",
      "metadata": {
        "id": "SJu-aqf5cF1p"
      },
      "source": [
        "***"
      ]
    },
    {
      "cell_type": "markdown",
      "metadata": {
        "id": "zUOmi7cFcF1q"
      },
      "source": [
        "- to execute a cell, <font color='red'>shift+enter</font>\n",
        "- to insert a new cell, press the <font color='red'>**+** button</font> in the top menu"
      ]
    },
    {
      "cell_type": "markdown",
      "metadata": {
        "id": "DU3ukSGvcF1s"
      },
      "source": [
        "## Part 1\n",
        "\n",
        "\n",
        "- <font color='red'>This part was already done for you.</font> \n",
        "- <font color='red'>You just need to execute the cells and observe the output. </font>\n"
      ]
    },
    {
      "cell_type": "code",
      "metadata": {
        "id": "9Ne2D_qXcF1t"
      },
      "source": [
        "# 1) Import the libraries that we will need\n",
        "\n",
        "import pandas as pd\n",
        "import numpy as np\n",
        "import matplotlib.pyplot as plt\n",
        "import seaborn as sns"
      ],
      "execution_count": 1,
      "outputs": []
    },
    {
      "cell_type": "code",
      "metadata": {
        "id": "7qbfjCTNcF1x"
      },
      "source": [
        "# 2) Load the data file into a new Pandas data frame called `house_sales_df` by calling the `read_csv` function in the Pandas library.\n",
        "    \n",
        "\n",
        "df = pd.read_csv ('/content/Predicting-Fraud.csv')"
      ],
      "execution_count": 2,
      "outputs": []
    },
    {
      "cell_type": "code",
      "metadata": {
        "colab": {
          "base_uri": "https://localhost:8080/"
        },
        "id": "NzPebX4vcF11",
        "outputId": "c0b73164-776e-4ee1-8b04-88ac7ce12b61"
      },
      "source": [
        "# 3) Display the size of this data frame using the `shape` data member of `house_sales_df` data frame\n",
        "df.shape"
      ],
      "execution_count": 3,
      "outputs": [
        {
          "output_type": "execute_result",
          "data": {
            "text/plain": [
              "(5000, 12)"
            ]
          },
          "metadata": {},
          "execution_count": 3
        }
      ]
    },
    {
      "cell_type": "code",
      "metadata": {
        "colab": {
          "base_uri": "https://localhost:8080/"
        },
        "id": "ZkIwiAaAcF16",
        "outputId": "963c2bea-ce24-4ad8-ee14-6370e47e83eb"
      },
      "source": [
        "## 3') display the column names using the `columns` data member \n",
        "\n",
        "df.columns"
      ],
      "execution_count": 4,
      "outputs": [
        {
          "output_type": "execute_result",
          "data": {
            "text/plain": [
              "Index(['Unnamed: 0', 'step', 'type', 'amount', 'nameOrig', 'oldbalanceOrg',\n",
              "       'newbalanceOrig', 'nameDest', 'oldbalanceDest', 'newbalanceDest',\n",
              "       'isFraud', 'isFlaggedFraud'],\n",
              "      dtype='object')"
            ]
          },
          "metadata": {},
          "execution_count": 4
        }
      ]
    },
    {
      "cell_type": "code",
      "metadata": {
        "colab": {
          "base_uri": "https://localhost:8080/",
          "height": 400
        },
        "id": "7ToZWyAMcF18",
        "outputId": "817ef0d3-4d3f-494e-b7e6-7cdddcac491b"
      },
      "source": [
        "# 4) Display the first 10 rows of this data frame by calling the `head` method with `house_sales_df`\n",
        "\n",
        "df.head(10)"
      ],
      "execution_count": 5,
      "outputs": [
        {
          "output_type": "execute_result",
          "data": {
            "text/html": [
              "<div>\n",
              "<style scoped>\n",
              "    .dataframe tbody tr th:only-of-type {\n",
              "        vertical-align: middle;\n",
              "    }\n",
              "\n",
              "    .dataframe tbody tr th {\n",
              "        vertical-align: top;\n",
              "    }\n",
              "\n",
              "    .dataframe thead th {\n",
              "        text-align: right;\n",
              "    }\n",
              "</style>\n",
              "<table border=\"1\" class=\"dataframe\">\n",
              "  <thead>\n",
              "    <tr style=\"text-align: right;\">\n",
              "      <th></th>\n",
              "      <th>Unnamed: 0</th>\n",
              "      <th>step</th>\n",
              "      <th>type</th>\n",
              "      <th>amount</th>\n",
              "      <th>nameOrig</th>\n",
              "      <th>oldbalanceOrg</th>\n",
              "      <th>newbalanceOrig</th>\n",
              "      <th>nameDest</th>\n",
              "      <th>oldbalanceDest</th>\n",
              "      <th>newbalanceDest</th>\n",
              "      <th>isFraud</th>\n",
              "      <th>isFlaggedFraud</th>\n",
              "    </tr>\n",
              "  </thead>\n",
              "  <tbody>\n",
              "    <tr>\n",
              "      <th>0</th>\n",
              "      <td>0</td>\n",
              "      <td>1</td>\n",
              "      <td>PAYMENT</td>\n",
              "      <td>9839.64</td>\n",
              "      <td>C1231006815</td>\n",
              "      <td>170136.00</td>\n",
              "      <td>160296.36</td>\n",
              "      <td>M1979787155</td>\n",
              "      <td>0.0</td>\n",
              "      <td>0.00</td>\n",
              "      <td>0</td>\n",
              "      <td>0</td>\n",
              "    </tr>\n",
              "    <tr>\n",
              "      <th>1</th>\n",
              "      <td>1</td>\n",
              "      <td>1</td>\n",
              "      <td>PAYMENT</td>\n",
              "      <td>1864.28</td>\n",
              "      <td>C1666544295</td>\n",
              "      <td>21249.00</td>\n",
              "      <td>19384.72</td>\n",
              "      <td>M2044282225</td>\n",
              "      <td>0.0</td>\n",
              "      <td>0.00</td>\n",
              "      <td>0</td>\n",
              "      <td>0</td>\n",
              "    </tr>\n",
              "    <tr>\n",
              "      <th>2</th>\n",
              "      <td>2</td>\n",
              "      <td>1</td>\n",
              "      <td>TRANSFER</td>\n",
              "      <td>181.00</td>\n",
              "      <td>C1305486145</td>\n",
              "      <td>181.00</td>\n",
              "      <td>0.00</td>\n",
              "      <td>C553264065</td>\n",
              "      <td>0.0</td>\n",
              "      <td>0.00</td>\n",
              "      <td>1</td>\n",
              "      <td>0</td>\n",
              "    </tr>\n",
              "    <tr>\n",
              "      <th>3</th>\n",
              "      <td>3</td>\n",
              "      <td>1</td>\n",
              "      <td>CASH_OUT</td>\n",
              "      <td>181.00</td>\n",
              "      <td>C840083671</td>\n",
              "      <td>181.00</td>\n",
              "      <td>0.00</td>\n",
              "      <td>C38997010</td>\n",
              "      <td>21182.0</td>\n",
              "      <td>0.00</td>\n",
              "      <td>1</td>\n",
              "      <td>0</td>\n",
              "    </tr>\n",
              "    <tr>\n",
              "      <th>4</th>\n",
              "      <td>4</td>\n",
              "      <td>1</td>\n",
              "      <td>PAYMENT</td>\n",
              "      <td>11668.14</td>\n",
              "      <td>C2048537720</td>\n",
              "      <td>41554.00</td>\n",
              "      <td>29885.86</td>\n",
              "      <td>M1230701703</td>\n",
              "      <td>0.0</td>\n",
              "      <td>0.00</td>\n",
              "      <td>0</td>\n",
              "      <td>0</td>\n",
              "    </tr>\n",
              "    <tr>\n",
              "      <th>5</th>\n",
              "      <td>5</td>\n",
              "      <td>1</td>\n",
              "      <td>PAYMENT</td>\n",
              "      <td>7817.71</td>\n",
              "      <td>C90045638</td>\n",
              "      <td>53860.00</td>\n",
              "      <td>46042.29</td>\n",
              "      <td>M573487274</td>\n",
              "      <td>0.0</td>\n",
              "      <td>0.00</td>\n",
              "      <td>0</td>\n",
              "      <td>0</td>\n",
              "    </tr>\n",
              "    <tr>\n",
              "      <th>6</th>\n",
              "      <td>6</td>\n",
              "      <td>1</td>\n",
              "      <td>PAYMENT</td>\n",
              "      <td>7107.77</td>\n",
              "      <td>C154988899</td>\n",
              "      <td>183195.00</td>\n",
              "      <td>176087.23</td>\n",
              "      <td>M408069119</td>\n",
              "      <td>0.0</td>\n",
              "      <td>0.00</td>\n",
              "      <td>0</td>\n",
              "      <td>0</td>\n",
              "    </tr>\n",
              "    <tr>\n",
              "      <th>7</th>\n",
              "      <td>7</td>\n",
              "      <td>1</td>\n",
              "      <td>PAYMENT</td>\n",
              "      <td>7861.64</td>\n",
              "      <td>C1912850431</td>\n",
              "      <td>176087.23</td>\n",
              "      <td>168225.59</td>\n",
              "      <td>M633326333</td>\n",
              "      <td>0.0</td>\n",
              "      <td>0.00</td>\n",
              "      <td>0</td>\n",
              "      <td>0</td>\n",
              "    </tr>\n",
              "    <tr>\n",
              "      <th>8</th>\n",
              "      <td>8</td>\n",
              "      <td>1</td>\n",
              "      <td>PAYMENT</td>\n",
              "      <td>4024.36</td>\n",
              "      <td>C1265012928</td>\n",
              "      <td>2671.00</td>\n",
              "      <td>0.00</td>\n",
              "      <td>M1176932104</td>\n",
              "      <td>0.0</td>\n",
              "      <td>0.00</td>\n",
              "      <td>0</td>\n",
              "      <td>0</td>\n",
              "    </tr>\n",
              "    <tr>\n",
              "      <th>9</th>\n",
              "      <td>9</td>\n",
              "      <td>1</td>\n",
              "      <td>DEBIT</td>\n",
              "      <td>5337.77</td>\n",
              "      <td>C712410124</td>\n",
              "      <td>41720.00</td>\n",
              "      <td>36382.23</td>\n",
              "      <td>C195600860</td>\n",
              "      <td>41898.0</td>\n",
              "      <td>40348.79</td>\n",
              "      <td>0</td>\n",
              "      <td>0</td>\n",
              "    </tr>\n",
              "  </tbody>\n",
              "</table>\n",
              "</div>"
            ],
            "text/plain": [
              "   Unnamed: 0  step      type  ...  newbalanceDest isFraud  isFlaggedFraud\n",
              "0           0     1   PAYMENT  ...            0.00       0               0\n",
              "1           1     1   PAYMENT  ...            0.00       0               0\n",
              "2           2     1  TRANSFER  ...            0.00       1               0\n",
              "3           3     1  CASH_OUT  ...            0.00       1               0\n",
              "4           4     1   PAYMENT  ...            0.00       0               0\n",
              "5           5     1   PAYMENT  ...            0.00       0               0\n",
              "6           6     1   PAYMENT  ...            0.00       0               0\n",
              "7           7     1   PAYMENT  ...            0.00       0               0\n",
              "8           8     1   PAYMENT  ...            0.00       0               0\n",
              "9           9     1     DEBIT  ...        40348.79       0               0\n",
              "\n",
              "[10 rows x 12 columns]"
            ]
          },
          "metadata": {},
          "execution_count": 5
        }
      ]
    },
    {
      "cell_type": "code",
      "metadata": {
        "colab": {
          "base_uri": "https://localhost:8080/"
        },
        "id": "zEUy0DXncF1-",
        "outputId": "a8b77062-5e49-4ca4-a54d-609bf43f0907"
      },
      "source": [
        "# 5) Display the data types of the data frame columns using the `dtypes` data member of `house_sales_df`\n",
        "\n",
        "df.dtypes"
      ],
      "execution_count": 6,
      "outputs": [
        {
          "output_type": "execute_result",
          "data": {
            "text/plain": [
              "Unnamed: 0          int64\n",
              "step                int64\n",
              "type               object\n",
              "amount            float64\n",
              "nameOrig           object\n",
              "oldbalanceOrg     float64\n",
              "newbalanceOrig    float64\n",
              "nameDest           object\n",
              "oldbalanceDest    float64\n",
              "newbalanceDest    float64\n",
              "isFraud             int64\n",
              "isFlaggedFraud      int64\n",
              "dtype: object"
            ]
          },
          "metadata": {},
          "execution_count": 6
        }
      ]
    },
    {
      "cell_type": "markdown",
      "metadata": {
        "id": "1MNSKJoCcF2A"
      },
      "source": [
        "***"
      ]
    },
    {
      "cell_type": "markdown",
      "metadata": {
        "id": "32paBrJTcF2B"
      },
      "source": [
        "## Part 2:  Overview of the data\n",
        "\n",
        "Answer the following questions in the cells below. Clearly labels you answers with the question number.\n",
        "\n",
        "1. How many observations (rows) and variables (columns) are there in this data frame? \n",
        "\n",
        "2. What is the TRUE DATA TYPE of each variable: *categorical* (i.e. each value represents a category or class of things), *discrete numeric* (i.e. represents some **countable** quantity), *continuous numeric*, or neither of these? <font color='red'>Be careful</font>: do not confuse this with the data type of the columns; you really need to read the descriptions of the variables in file `house_sales_README.txt` and understand what they represent ...\n",
        "\n",
        "3. Which of these variables are **totally irrelevant** to the main objective of predicting house price?\n",
        "\n",
        "4. How many **missing** values and in which columns are they? You need to call the `isna().sum()` methods with `house_sales_df`.\n",
        "\n",
        "<p>\n",
        "The output from **Part1** will be helpful for answering some of these questions ..."
      ]
    },
    {
      "cell_type": "code",
      "metadata": {
        "colab": {
          "base_uri": "https://localhost:8080/"
        },
        "id": "UHLMVcGkcF2F",
        "outputId": "3685e63f-2265-43ed-8325-32680dbc47e1"
      },
      "source": [
        "#Q1 How many observations (rows) and variables (columns) are there in this data frame?\n",
        "df.shape"
      ],
      "execution_count": 7,
      "outputs": [
        {
          "output_type": "execute_result",
          "data": {
            "text/plain": [
              "(5000, 12)"
            ]
          },
          "metadata": {},
          "execution_count": 7
        }
      ]
    },
    {
      "cell_type": "code",
      "metadata": {
        "colab": {
          "base_uri": "https://localhost:8080/"
        },
        "id": "tV0YMmB0imhh",
        "outputId": "89f0425a-acc9-42fd-c4a6-2b3048e5a3d5"
      },
      "source": [
        "df.isna().sum()"
      ],
      "execution_count": 8,
      "outputs": [
        {
          "output_type": "execute_result",
          "data": {
            "text/plain": [
              "Unnamed: 0        0\n",
              "step              0\n",
              "type              0\n",
              "amount            0\n",
              "nameOrig          0\n",
              "oldbalanceOrg     0\n",
              "newbalanceOrig    0\n",
              "nameDest          0\n",
              "oldbalanceDest    0\n",
              "newbalanceDest    0\n",
              "isFraud           0\n",
              "isFlaggedFraud    0\n",
              "dtype: int64"
            ]
          },
          "metadata": {},
          "execution_count": 8
        }
      ]
    },
    {
      "cell_type": "markdown",
      "metadata": {
        "id": "u1qW0IQ4cXeV"
      },
      "source": [
        "Q2\n"
      ]
    },
    {
      "cell_type": "markdown",
      "metadata": {
        "id": "sZh4-2lAcF2J"
      },
      "source": [
        "Q2\n",
        "* unnamed : discrete\n",
        "* step : discrete\n",
        "* type : categorical\n",
        "* amount : continuous\t\n",
        "* nameOrig : other\n",
        "* oldbalanceOrg\t: continuous\n",
        "* newbalanceOrig : continuous\n",
        "* nameDest : other\n",
        "* oldbalanceDest : continuous\n",
        "* newbalanceDest : continuous\n",
        "* isFraud\t: categorical\n",
        "* isFlaggedFraud : categorical\n"
      ]
    },
    {
      "cell_type": "markdown",
      "metadata": {
        "id": "1Qo2JEF-5_Xm"
      },
      "source": [
        "unnamed n'est pas nécessaire pour la prédiction de fraude vu qu'elle n'a aucune valeur ajoutée"
      ]
    },
    {
      "cell_type": "markdown",
      "metadata": {
        "id": "qf7tkmzzcF2K"
      },
      "source": [
        "***"
      ]
    },
    {
      "cell_type": "code",
      "metadata": {
        "id": "Wsk-FbR8cgOq"
      },
      "source": [
        ""
      ],
      "execution_count": 8,
      "outputs": []
    },
    {
      "cell_type": "markdown",
      "metadata": {
        "id": "IFpRexcOcF2L"
      },
      "source": [
        "## Part 3 : Visualize continuous numeric variables\n",
        "\n",
        "Answer the following questions in the cells below. Clearly labels you answers with the question number.\n",
        "\n",
        "1. create a new data frame called `continuous_data_df` that contains only **continuous numeric** columns.\n",
        "\n",
        "2. display a statistical summary of these columns by calling the `describe` method with the `continuous_data_df` data frame.\n",
        "\n",
        "3. Based on the output of the previous cell, what is the minimum value of the `sqft_basement` and what can you say about this value? explain.\n",
        "\n",
        "4. Visualize the bi-variate distributions of the **continuous numeric** columns by calling the `pairsplot` function from the `seaborn` library with the `continuous_data_df` data frame.\n",
        "\n",
        "5. Visually inspect the previous plot; based on this plot, which variables have a strong **linear** relationship with `sqft_above`, and which variables have a strong **non-linear** relationship with `price`?\n",
        "\n",
        "6. Calculate the correlation matrix of these columns by calling the `corr` method with `continuous_data_df`, and then plot this matrix by calling the `sns.heatmap` function from the `seaborn` library.\n",
        "\n",
        "7. Based on the previous question, which pairs of variables are strongly **linearly** correlated? (have a correlation coefficient above 0.9 or less than -0.9)"
      ]
    },
    {
      "cell_type": "markdown",
      "metadata": {
        "id": "0zVliFSKcF2N"
      },
      "source": [
        "<font color='red'>Q1 is already answered for you! Just execute the cell below.</font>"
      ]
    },
    {
      "cell_type": "code",
      "metadata": {
        "colab": {
          "base_uri": "https://localhost:8080/"
        },
        "id": "Op8Z_t7PcF2O",
        "outputId": "b331febe-b8a8-4fe2-d2a7-c7387119e313"
      },
      "source": [
        "#Q1. create a new data frame called `numeric_house_sales_df` that contains only **continuous numeric** columns\n",
        "\n",
        "# create list containing continuous variables\n",
        "continuous_variables = ['amount','oldbalanceOrg','newbalanceOrig', 'oldbalanceDest', 'newbalanceDest']\n",
        "\n",
        "# create list containing non-continuous variables based on the previous list\n",
        "other_variables = [x for x in df.columns if x not in continuous_variables]\n",
        "print(continuous_variables)\n",
        "\n",
        "continuous_data_df = df[continuous_variables]\n"
      ],
      "execution_count": 9,
      "outputs": [
        {
          "output_type": "stream",
          "name": "stdout",
          "text": [
            "['amount', 'oldbalanceOrg', 'newbalanceOrig', 'oldbalanceDest', 'newbalanceDest']\n"
          ]
        }
      ]
    },
    {
      "cell_type": "code",
      "metadata": {
        "id": "ifocx0YJjmd7",
        "colab": {
          "base_uri": "https://localhost:8080/",
          "height": 300
        },
        "outputId": "c6d08d1a-94ee-461e-dad2-232c9cf95a97"
      },
      "source": [
        "continuous_data_df.describe()"
      ],
      "execution_count": 10,
      "outputs": [
        {
          "output_type": "execute_result",
          "data": {
            "text/html": [
              "<div>\n",
              "<style scoped>\n",
              "    .dataframe tbody tr th:only-of-type {\n",
              "        vertical-align: middle;\n",
              "    }\n",
              "\n",
              "    .dataframe tbody tr th {\n",
              "        vertical-align: top;\n",
              "    }\n",
              "\n",
              "    .dataframe thead th {\n",
              "        text-align: right;\n",
              "    }\n",
              "</style>\n",
              "<table border=\"1\" class=\"dataframe\">\n",
              "  <thead>\n",
              "    <tr style=\"text-align: right;\">\n",
              "      <th></th>\n",
              "      <th>amount</th>\n",
              "      <th>oldbalanceOrg</th>\n",
              "      <th>newbalanceOrig</th>\n",
              "      <th>oldbalanceDest</th>\n",
              "      <th>newbalanceDest</th>\n",
              "    </tr>\n",
              "  </thead>\n",
              "  <tbody>\n",
              "    <tr>\n",
              "      <th>count</th>\n",
              "      <td>5.000000e+03</td>\n",
              "      <td>5.000000e+03</td>\n",
              "      <td>5.000000e+03</td>\n",
              "      <td>5.000000e+03</td>\n",
              "      <td>5.000000e+03</td>\n",
              "    </tr>\n",
              "    <tr>\n",
              "      <th>mean</th>\n",
              "      <td>1.015176e+05</td>\n",
              "      <td>1.042543e+06</td>\n",
              "      <td>1.064338e+06</td>\n",
              "      <td>9.181536e+05</td>\n",
              "      <td>1.064912e+06</td>\n",
              "    </tr>\n",
              "    <tr>\n",
              "      <th>std</th>\n",
              "      <td>3.009623e+05</td>\n",
              "      <td>2.301986e+06</td>\n",
              "      <td>2.343680e+06</td>\n",
              "      <td>2.541759e+06</td>\n",
              "      <td>2.921892e+06</td>\n",
              "    </tr>\n",
              "    <tr>\n",
              "      <th>min</th>\n",
              "      <td>6.420000e+00</td>\n",
              "      <td>0.000000e+00</td>\n",
              "      <td>0.000000e+00</td>\n",
              "      <td>0.000000e+00</td>\n",
              "      <td>0.000000e+00</td>\n",
              "    </tr>\n",
              "    <tr>\n",
              "      <th>25%</th>\n",
              "      <td>3.734922e+03</td>\n",
              "      <td>5.722500e+02</td>\n",
              "      <td>0.000000e+00</td>\n",
              "      <td>0.000000e+00</td>\n",
              "      <td>0.000000e+00</td>\n",
              "    </tr>\n",
              "    <tr>\n",
              "      <th>50%</th>\n",
              "      <td>1.095855e+04</td>\n",
              "      <td>2.655056e+04</td>\n",
              "      <td>1.814185e+04</td>\n",
              "      <td>0.000000e+00</td>\n",
              "      <td>0.000000e+00</td>\n",
              "    </tr>\n",
              "    <tr>\n",
              "      <th>75%</th>\n",
              "      <td>1.086046e+05</td>\n",
              "      <td>2.957183e+05</td>\n",
              "      <td>3.003207e+05</td>\n",
              "      <td>3.638475e+05</td>\n",
              "      <td>2.701108e+05</td>\n",
              "    </tr>\n",
              "    <tr>\n",
              "      <th>max</th>\n",
              "      <td>1.000000e+07</td>\n",
              "      <td>1.293042e+07</td>\n",
              "      <td>1.301050e+07</td>\n",
              "      <td>1.951612e+07</td>\n",
              "      <td>1.916920e+07</td>\n",
              "    </tr>\n",
              "  </tbody>\n",
              "</table>\n",
              "</div>"
            ],
            "text/plain": [
              "             amount  oldbalanceOrg  ...  oldbalanceDest  newbalanceDest\n",
              "count  5.000000e+03   5.000000e+03  ...    5.000000e+03    5.000000e+03\n",
              "mean   1.015176e+05   1.042543e+06  ...    9.181536e+05    1.064912e+06\n",
              "std    3.009623e+05   2.301986e+06  ...    2.541759e+06    2.921892e+06\n",
              "min    6.420000e+00   0.000000e+00  ...    0.000000e+00    0.000000e+00\n",
              "25%    3.734922e+03   5.722500e+02  ...    0.000000e+00    0.000000e+00\n",
              "50%    1.095855e+04   2.655056e+04  ...    0.000000e+00    0.000000e+00\n",
              "75%    1.086046e+05   2.957183e+05  ...    3.638475e+05    2.701108e+05\n",
              "max    1.000000e+07   1.293042e+07  ...    1.951612e+07    1.916920e+07\n",
              "\n",
              "[8 rows x 5 columns]"
            ]
          },
          "metadata": {},
          "execution_count": 10
        }
      ]
    },
    {
      "cell_type": "markdown",
      "metadata": {
        "id": "G6KIM_bgkkhF"
      },
      "source": [
        "q3- 0.0"
      ]
    },
    {
      "cell_type": "code",
      "metadata": {
        "colab": {
          "base_uri": "https://localhost:8080/",
          "height": 920
        },
        "id": "JSrm_d0-kwdd",
        "outputId": "3e595095-2b54-4d76-92e3-12870e57d0b7"
      },
      "source": [
        "sns.pairplot(continuous_data_df)"
      ],
      "execution_count": 11,
      "outputs": [
        {
          "output_type": "execute_result",
          "data": {
            "text/plain": [
              "<seaborn.axisgrid.PairGrid at 0x7fe6523fbe10>"
            ]
          },
          "metadata": {},
          "execution_count": 11
        },
        {
          "output_type": "display_data",
          "data": {
            "image/png": "[encoded data removed]",
            "text/plain": [
              "<Figure size 900x900 with 30 Axes>"
            ]
          },
          "metadata": {
            "needs_background": "light"
          }
        }
      ]
    },
    {
      "cell_type": "markdown",
      "metadata": {
        "id": "Mkgm3LrecF2Q"
      },
      "source": [
        "**Q5.**  Based on above plot, which variables have a strong **linear** relationship with `sqft_above`, and which have a strong **non-linear** relationship with `price`?\n",
        "\n",
        "- sqft_above variable: sqft_living\n",
        "- price variable: sqft_lot, sqft_lot15\n"
      ]
    },
    {
      "cell_type": "code",
      "metadata": {
        "colab": {
          "base_uri": "https://localhost:8080/",
          "height": 206
        },
        "id": "5jDuXzt5u46t",
        "outputId": "265fd301-f774-42af-941a-070c5c24ffde"
      },
      "source": [
        "continuous_data_df.corr()"
      ],
      "execution_count": 12,
      "outputs": [
        {
          "output_type": "execute_result",
          "data": {
            "text/html": [
              "<div>\n",
              "<style scoped>\n",
              "    .dataframe tbody tr th:only-of-type {\n",
              "        vertical-align: middle;\n",
              "    }\n",
              "\n",
              "    .dataframe tbody tr th {\n",
              "        vertical-align: top;\n",
              "    }\n",
              "\n",
              "    .dataframe thead th {\n",
              "        text-align: right;\n",
              "    }\n",
              "</style>\n",
              "<table border=\"1\" class=\"dataframe\">\n",
              "  <thead>\n",
              "    <tr style=\"text-align: right;\">\n",
              "      <th></th>\n",
              "      <th>amount</th>\n",
              "      <th>oldbalanceOrg</th>\n",
              "      <th>newbalanceOrig</th>\n",
              "      <th>oldbalanceDest</th>\n",
              "      <th>newbalanceDest</th>\n",
              "    </tr>\n",
              "  </thead>\n",
              "  <tbody>\n",
              "    <tr>\n",
              "      <th>amount</th>\n",
              "      <td>1.000000</td>\n",
              "      <td>0.148784</td>\n",
              "      <td>0.090117</td>\n",
              "      <td>0.290004</td>\n",
              "      <td>0.359627</td>\n",
              "    </tr>\n",
              "    <tr>\n",
              "      <th>oldbalanceOrg</th>\n",
              "      <td>0.148784</td>\n",
              "      <td>1.000000</td>\n",
              "      <td>0.994933</td>\n",
              "      <td>0.270221</td>\n",
              "      <td>0.220605</td>\n",
              "    </tr>\n",
              "    <tr>\n",
              "      <th>newbalanceOrig</th>\n",
              "      <td>0.090117</td>\n",
              "      <td>0.994933</td>\n",
              "      <td>1.000000</td>\n",
              "      <td>0.278706</td>\n",
              "      <td>0.222882</td>\n",
              "    </tr>\n",
              "    <tr>\n",
              "      <th>oldbalanceDest</th>\n",
              "      <td>0.290004</td>\n",
              "      <td>0.270221</td>\n",
              "      <td>0.278706</td>\n",
              "      <td>1.000000</td>\n",
              "      <td>0.914406</td>\n",
              "    </tr>\n",
              "    <tr>\n",
              "      <th>newbalanceDest</th>\n",
              "      <td>0.359627</td>\n",
              "      <td>0.220605</td>\n",
              "      <td>0.222882</td>\n",
              "      <td>0.914406</td>\n",
              "      <td>1.000000</td>\n",
              "    </tr>\n",
              "  </tbody>\n",
              "</table>\n",
              "</div>"
            ],
            "text/plain": [
              "                  amount  oldbalanceOrg  ...  oldbalanceDest  newbalanceDest\n",
              "amount          1.000000       0.148784  ...        0.290004        0.359627\n",
              "oldbalanceOrg   0.148784       1.000000  ...        0.270221        0.220605\n",
              "newbalanceOrig  0.090117       0.994933  ...        0.278706        0.222882\n",
              "oldbalanceDest  0.290004       0.270221  ...        1.000000        0.914406\n",
              "newbalanceDest  0.359627       0.220605  ...        0.914406        1.000000\n",
              "\n",
              "[5 rows x 5 columns]"
            ]
          },
          "metadata": {},
          "execution_count": 12
        }
      ]
    },
    {
      "cell_type": "code",
      "metadata": {
        "colab": {
          "base_uri": "https://localhost:8080/",
          "height": 359
        },
        "id": "DIX2MiohvE1s",
        "outputId": "3a0c9082-5b0f-4074-d4e9-c8479253aa8a"
      },
      "source": [
        "sns.heatmap(continuous_data_df.corr(),annot=True)"
      ],
      "execution_count": 13,
      "outputs": [
        {
          "output_type": "execute_result",
          "data": {
            "text/plain": [
              "<matplotlib.axes._subplots.AxesSubplot at 0x7fe64875f2d0>"
            ]
          },
          "metadata": {},
          "execution_count": 13
        },
        {
          "output_type": "display_data",
          "data": {
            "image/png": "[encoded data removed]",
            "text/plain": [
              "<Figure size 432x288 with 2 Axes>"
            ]
          },
          "metadata": {
            "needs_background": "light"
          }
        }
      ]
    },
    {
      "cell_type": "markdown",
      "metadata": {
        "id": "OXuLMJ0WcF2R"
      },
      "source": [
        "**Q7.** Based on the previous question, which pairs of variables are strongly **linearly** correlated? (have a correlation coefficient above 0.9 or less than -0.9)\n",
        "\n",
        "- there is no pair of variables with correlation greater than 0.9 or less than -0.9\n",
        "- the highest correlated pair of variables are `sqft_above` and `sqft_living` with correlation **0.88**\n"
      ]
    },
    {
      "cell_type": "markdown",
      "metadata": {
        "id": "tV3vx9-YcF2T"
      },
      "source": [
        "***"
      ]
    },
    {
      "cell_type": "markdown",
      "metadata": {
        "id": "ZVV_A5zlcF2U"
      },
      "source": [
        "## Part 4: Visualize discrete numeric variables\n",
        "\n",
        "Answer the following questions in the cells below. Clearly label your answers with the question number.\n",
        "\n",
        "1. For each discrete variable, display its distribution of values by calling the `value_counts` method inside a *for* loop ...\n",
        "2. Plot the distribution of number of bedrooms as a bar plot, by calling `value_counts().plot.bar()`.\n",
        "3. Based on the previous plot, what is the most frequent number of bedrooms?\n",
        "4. Plot the distribution of `price` by `waterfront` by calling the `sns.boxplot` function.\n",
        "5. Based on the previous plot, what can you say about the relationship between the `price` and `waterfront` variables?"
      ]
    },
    {
      "cell_type": "code",
      "metadata": {
        "colab": {
          "base_uri": "https://localhost:8080/"
        },
        "id": "F6msb50HxMKK",
        "outputId": "f2db38bf-3332-4c54-9066-a10efffd6499"
      },
      "source": [
        "discrete_variable=['step']\n",
        "for x in discrete_variable :\n",
        "  print(x)\n",
        "  print(df[x].value_counts())\n",
        "  print()"
      ],
      "execution_count": 14,
      "outputs": [
        {
          "output_type": "stream",
          "name": "stdout",
          "text": [
            "step\n",
            "1    2708\n",
            "2    1014\n",
            "4     565\n",
            "3     552\n",
            "5     161\n",
            "Name: step, dtype: int64\n",
            "\n"
          ]
        }
      ]
    },
    {
      "cell_type": "code",
      "metadata": {
        "colab": {
          "base_uri": "https://localhost:8080/",
          "height": 279
        },
        "id": "U_pKP8lizlxA",
        "outputId": "2791961e-db06-4058-925a-91efaac5385e"
      },
      "source": [
        "df['step'].value_counts().plot.bar()"
      ],
      "execution_count": 15,
      "outputs": [
        {
          "output_type": "execute_result",
          "data": {
            "text/plain": [
              "<matplotlib.axes._subplots.AxesSubplot at 0x7fe6640e68d0>"
            ]
          },
          "metadata": {},
          "execution_count": 15
        },
        {
          "output_type": "display_data",
          "data": {
            "image/png": "[encoded data removed]",
            "text/plain": [
              "<Figure size 432x288 with 1 Axes>"
            ]
          },
          "metadata": {
            "needs_background": "light"
          }
        }
      ]
    },
    {
      "cell_type": "code",
      "metadata": {
        "colab": {
          "base_uri": "https://localhost:8080/",
          "height": 307
        },
        "id": "MpbJpVVD04TU",
        "outputId": "0c15a98f-ac14-44cd-b6a6-531d0522840c"
      },
      "source": [
        "sns.boxplot(x=df.oldbalanceOrg,y=df.newbalanceOrig)"
      ],
      "execution_count": 16,
      "outputs": [
        {
          "output_type": "execute_result",
          "data": {
            "text/plain": [
              "<matplotlib.axes._subplots.AxesSubplot at 0x7fe643f6d710>"
            ]
          },
          "metadata": {},
          "execution_count": 16
        },
        {
          "output_type": "display_data",
          "data": {
            "image/png": "[encoded data removed]",
            "text/plain": [
              "<Figure size 432x288 with 1 Axes>"
            ]
          },
          "metadata": {
            "needs_background": "light"
          }
        }
      ]
    },
    {
      "cell_type": "markdown",
      "metadata": {
        "id": "e2ZxbETlcF2V"
      },
      "source": [
        "**Q5.** *Based on the previous plot, what can you say about the relationship between the `price` and `waterfront` variables?*\n",
        "\n",
        "- The prices of houses that are on the waterfront are on average higher than those not on the waterfront."
      ]
    },
    {
      "cell_type": "markdown",
      "metadata": {
        "id": "3lMU3oifcF2W"
      },
      "source": [
        "***"
      ]
    },
    {
      "cell_type": "markdown",
      "metadata": {
        "id": "S7g2_YIzcF2X"
      },
      "source": [
        "## Part 5: Visualize categorical variables\n",
        "\n",
        "Answer the following questions in the cells below. Clearly label your answers with the question number.\n",
        "\n",
        "1. For each categorical variable, display its number of distinct values by calling the `nunique` method inside a *for* loop ...\n",
        "\n",
        "2. Based on the output of the previous question, how many zip codes are there?\n",
        "\n",
        "3. Plot the distribution of the `view` variable as a bar plot, by calling `value_counts().plot.bar()`.\n",
        "\n",
        "4. Plot the distribution of `price` by `view`. Which *view* tends to have highest house prices?"
      ]
    },
    {
      "cell_type": "code",
      "metadata": {
        "id": "UajVD2iD1Y40",
        "colab": {
          "base_uri": "https://localhost:8080/"
        },
        "outputId": "13b7f895-0861-4efa-da4a-41a693a87f4a"
      },
      "source": [
        "categorical_variable= ['type','isFraud','isFlaggedFraud']\n",
        "for x in categorical_variable:\n",
        "  print(x,df[x].nunique())\n",
        "  print()"
      ],
      "execution_count": 17,
      "outputs": [
        {
          "output_type": "stream",
          "name": "stdout",
          "text": [
            "type 5\n",
            "\n",
            "isFraud 2\n",
            "\n",
            "isFlaggedFraud 1\n",
            "\n"
          ]
        }
      ]
    },
    {
      "cell_type": "markdown",
      "metadata": {
        "id": "LnzbkUwscF2Y"
      },
      "source": [
        "Houses with view number 4 tends to have higher prices than the other views."
      ]
    },
    {
      "cell_type": "code",
      "metadata": {
        "id": "y6AYRIW02SkZ",
        "colab": {
          "base_uri": "https://localhost:8080/",
          "height": 326
        },
        "outputId": "6f781760-38ce-4190-f50a-2b18fae2e252"
      },
      "source": [
        "df['type'].value_counts().plot.bar()"
      ],
      "execution_count": 18,
      "outputs": [
        {
          "output_type": "execute_result",
          "data": {
            "text/plain": [
              "<matplotlib.axes._subplots.AxesSubplot at 0x7fe62da6c2d0>"
            ]
          },
          "metadata": {},
          "execution_count": 18
        },
        {
          "output_type": "display_data",
          "data": {
            "image/png": "[encoded data removed]",
            "text/plain": [
              "<Figure size 432x288 with 1 Axes>"
            ]
          },
          "metadata": {
            "needs_background": "light"
          }
        }
      ]
    },
    {
      "cell_type": "code",
      "metadata": {
        "id": "f0HTINH6cF2Z",
        "colab": {
          "base_uri": "https://localhost:8080/",
          "height": 297
        },
        "outputId": "bcfda0da-0a9d-4f10-b8b4-306e6a0f909b"
      },
      "source": [
        "sns.boxplot(x=df['type'],y=df.isFraud)"
      ],
      "execution_count": 19,
      "outputs": [
        {
          "output_type": "execute_result",
          "data": {
            "text/plain": [
              "<matplotlib.axes._subplots.AxesSubplot at 0x7fe62dae0f50>"
            ]
          },
          "metadata": {},
          "execution_count": 19
        },
        {
          "output_type": "display_data",
          "data": {
            "image/png": "[encoded data removed]",
            "text/plain": [
              "<Figure size 432x288 with 1 Axes>"
            ]
          },
          "metadata": {
            "needs_background": "light"
          }
        }
      ]
    },
    {
      "cell_type": "markdown",
      "metadata": {
        "id": "fV8xT8mjejMx"
      },
      "source": [
        "  TP2 DATA CLEANING"
      ]
    },
    {
      "cell_type": "markdown",
      "metadata": {
        "id": "dUd8Ik0ke8o4"
      },
      "source": [
        "## Part 1: Read the Data\n",
        "\n",
        "Answer the following questions.  You need to write python code for some questions.\n",
        "\n",
        "1. Read the data in file `brfss2013_sub.csv` and store it in a data frame called `df`\n",
        "2. How many rows and columns are in this data frame?\n",
        "3. What are the names and true types of the first 5 columns?\n",
        "4. Are any of these first 5 columns useful for ML? Explain."
      ]
    },
    {
      "cell_type": "code",
      "metadata": {
        "colab": {
          "base_uri": "https://localhost:8080/"
        },
        "id": "3IW9MmtbehFJ",
        "outputId": "4cb3366a-0e96-48c7-9dab-35de68740aaa"
      },
      "source": [
        "df.dtypes.head(5)"
      ],
      "execution_count": 20,
      "outputs": [
        {
          "output_type": "execute_result",
          "data": {
            "text/plain": [
              "Unnamed: 0      int64\n",
              "step            int64\n",
              "type           object\n",
              "amount        float64\n",
              "nameOrig       object\n",
              "dtype: object"
            ]
          },
          "metadata": {},
          "execution_count": 20
        }
      ]
    },
    {
      "cell_type": "markdown",
      "metadata": {
        "id": "8a0s2FlFv3dE"
      },
      "source": [
        "Q4"
      ]
    },
    {
      "cell_type": "markdown",
      "metadata": {
        "id": "bH9Y8lb2v653"
      },
      "source": [
        "## Part 2: Data Exploration and Cleaning\n",
        "\n",
        "Answer the questions below.\n",
        "\n",
        "1. Create a list called `my_vars_names` containing the names of the 4 variables that were assigned to your group.\n",
        "\n",
        "2. Create a new data frame called `my_df` as a subset of `df` containing only the columns in `my_vars_names`.\n",
        "\n",
        "3. Verify the shape of this new data frame; Make sure its number of rows is the same as in `df`.\n",
        "\n",
        "4. Determine the **true** type of each variable based on its description in file `data_codebook.html`; is it *categorical*, *discrete*, *continuous*, or **other** ?\n",
        "\n",
        "5. For each truly *categorical* variable, convert it to the *category* type by calling the `astype` method ...\n",
        "\n",
        "6. For each numeric variable, determine the unit(s) of measurement of its values based on the description in file `data_codebook.html`. For example: number of times per week; kilograms, etc.  **Be careful**: some variables contain values with different measurement units. For example, the **weight2** variable contains both values in *pounds* and values in *kilograms*! ...\n",
        "\n",
        "7. For each numeric variable, determine whether it contains any invalid values; that is, values that are inconsistent with the variable's description in file `data_codebook.html`. **Hint**: the `describe` and `unique` methods are helpful ...\n",
        "\n",
        "8. For each numeric variable, determine whether it contains outliers. **Hint1**: start by visualizing the distribution of the variable using a boxplot or histogram.  **Hint2**: if your variable has multiple units of measurement, use different plots for different units ...\n",
        "\n",
        "9. For each categorical variable, how many categories does it have? **Hint**: call the `nunique` and/or `value_counts` methods ...\n",
        "\n",
        "10. For each variable, if it contains **implicitly** encoded missing values, then replace those values with the explicit NAN value `np.nan`\n",
        "\n",
        "11. How many missing values does each variable contain? **Hint**: call the `isnull` method followed by the `sum` method ...\n",
        "\n",
        "12. Which variables should be removed because they contain too many missing values (more than 30%)?  **Hint**: call `isnull` followed by `mean` in order to obtain the fraction of missing values for each variable.\n",
        "\n",
        "13. Remove all variables from `my_df` that contain more than 30% missing values. Put the result in a new data frame called `my_df_without_noisy_variables`. Display the shape of this data frame.\n",
        "\n",
        "14. Remove all rows from `my_df` that contain missing values by calling the `dropna` method. Put the result in a new data frame called `my_df_without_missing`.  Display the shape of this new data frame.  **Hint**: carefully read the documentation of the `dropna` method using the command `?my_df.dropna`.\n",
        "\n",
        "15. Based on the result of the previous question, do you think it's a good idea to handle missing values by removing the entire row? Explain.\n",
        "\n",
        "16. For each numeric variable that has less than 30% missing values, replace its missing values with its *median* value, and put the result in the SAME data frame `my_df`. You should call the `fillna` method SEPARATELY on each variable, with the parameter `inplace=True`.\n",
        "\n",
        "17. For each categorical variable that has less than 30% missing values, replace its missing values with the *most frequent* value and put the result in the SAME data frame `my_df`, by calling the `fillna` method SEPARATELY on each variable, with `inplace=True`."
      ]
    },
    {
      "cell_type": "code",
      "metadata": {
        "id": "4vK2ELH3zZPA"
      },
      "source": [
        "my_vars_names=[\"step\",\"type\",\"amount\",\"nameOrig\",\"oldbalanceOrg\",\"newbalanceOrig\",\"nameDest\",\"oldbalanceDest\",\"newbalanceDest\",\"isFraud\",\"isFlaggedFraud\"]"
      ],
      "execution_count": 21,
      "outputs": []
    },
    {
      "cell_type": "markdown",
      "metadata": {
        "id": "JQ6Aw8MO5R9F"
      },
      "source": [
        "Q4-\n",
        "* unnamed : discrete\n",
        "* step : discrete\n",
        "* type : categorical\n",
        "* amount : continuous\t\n",
        "* nameOrig : other\n",
        "* oldbalanceOrg\t: continuous\n",
        "* newbalanceOrig : continuous\n",
        "* nameDest : other\n",
        "* oldbalanceDest : continuous\n",
        "* newbalanceDest : continuous\n",
        "* isFraud\t: categorical\n",
        "* isFlaggedFraud : categorical\n",
        "\n"
      ]
    },
    {
      "cell_type": "code",
      "metadata": {
        "colab": {
          "base_uri": "https://localhost:8080/"
        },
        "id": "Li02Bu0579v9",
        "outputId": "1a991f18-c68a-4797-dd6d-24e070b42e8c"
      },
      "source": [
        "df.type.astype('category')"
      ],
      "execution_count": 22,
      "outputs": [
        {
          "output_type": "execute_result",
          "data": {
            "text/plain": [
              "0        PAYMENT\n",
              "1        PAYMENT\n",
              "2       TRANSFER\n",
              "3       CASH_OUT\n",
              "4        PAYMENT\n",
              "          ...   \n",
              "4995     CASH_IN\n",
              "4996     CASH_IN\n",
              "4997     CASH_IN\n",
              "4998     CASH_IN\n",
              "4999     CASH_IN\n",
              "Name: type, Length: 5000, dtype: category\n",
              "Categories (5, object): ['CASH_IN', 'CASH_OUT', 'DEBIT', 'PAYMENT', 'TRANSFER']"
            ]
          },
          "metadata": {},
          "execution_count": 22
        }
      ]
    },
    {
      "cell_type": "code",
      "metadata": {
        "colab": {
          "base_uri": "https://localhost:8080/"
        },
        "id": "onMVwgRA8Z2r",
        "outputId": "a76286d7-aa3b-45ee-b1e9-fed578912bfe"
      },
      "source": [
        "df.isFraud.astype('category')"
      ],
      "execution_count": 23,
      "outputs": [
        {
          "output_type": "execute_result",
          "data": {
            "text/plain": [
              "0       0\n",
              "1       0\n",
              "2       1\n",
              "3       1\n",
              "4       0\n",
              "       ..\n",
              "4995    0\n",
              "4996    0\n",
              "4997    0\n",
              "4998    0\n",
              "4999    0\n",
              "Name: isFraud, Length: 5000, dtype: category\n",
              "Categories (2, int64): [0, 1]"
            ]
          },
          "metadata": {},
          "execution_count": 23
        }
      ]
    },
    {
      "cell_type": "code",
      "metadata": {
        "colab": {
          "base_uri": "https://localhost:8080/"
        },
        "id": "CBfKSdun8oWI",
        "outputId": "5ca12fed-eb8b-48c8-871a-518725657f81"
      },
      "source": [
        "df.isFlaggedFraud.astype('category')"
      ],
      "execution_count": 24,
      "outputs": [
        {
          "output_type": "execute_result",
          "data": {
            "text/plain": [
              "0       0\n",
              "1       0\n",
              "2       0\n",
              "3       0\n",
              "4       0\n",
              "       ..\n",
              "4995    0\n",
              "4996    0\n",
              "4997    0\n",
              "4998    0\n",
              "4999    0\n",
              "Name: isFlaggedFraud, Length: 5000, dtype: category\n",
              "Categories (1, int64): [0]"
            ]
          },
          "metadata": {},
          "execution_count": 24
        }
      ]
    },
    {
      "cell_type": "markdown",
      "metadata": {
        "id": "TtJ1qtux-NJn"
      },
      "source": [
        "*  amount : amount of the transaction in local currency(in dollar)\n",
        "*  oldbalanceOrg : initial balance before the transaction (in dollar)\n",
        "*  newbalanceOrig : customer's balance after the transaction(in dollar)\n",
        "*  oldbalanceDest : initial recipient balance before the transaction (in dollar)\n",
        "*  newbalanceDest : recipient's balance after the transaction(in dollar)\n",
        "\n",
        "\n",
        "\n"
      ]
    },
    {
      "cell_type": "code",
      "metadata": {
        "colab": {
          "base_uri": "https://localhost:8080/"
        },
        "id": "3VttIf2g_0NZ",
        "outputId": "03c44587-505f-49ad-b826-40c9cf7293bd"
      },
      "source": [
        "df['amount'].describe()"
      ],
      "execution_count": 25,
      "outputs": [
        {
          "output_type": "execute_result",
          "data": {
            "text/plain": [
              "count    5.000000e+03\n",
              "mean     1.015176e+05\n",
              "std      3.009623e+05\n",
              "min      6.420000e+00\n",
              "25%      3.734922e+03\n",
              "50%      1.095855e+04\n",
              "75%      1.086046e+05\n",
              "max      1.000000e+07\n",
              "Name: amount, dtype: float64"
            ]
          },
          "metadata": {},
          "execution_count": 25
        }
      ]
    },
    {
      "cell_type": "code",
      "metadata": {
        "colab": {
          "base_uri": "https://localhost:8080/"
        },
        "id": "sb9OuOyZ__8-",
        "outputId": "40326f7a-768d-44f9-f07c-0b365d7031b5"
      },
      "source": [
        "df['amount'].unique()"
      ],
      "execution_count": 26,
      "outputs": [
        {
          "output_type": "execute_result",
          "data": {
            "text/plain": [
              "array([9.8396400e+03, 1.8642800e+03, 1.8100000e+02, ..., 4.1472924e+05,\n",
              "       3.2877610e+05, 5.0535870e+04])"
            ]
          },
          "metadata": {},
          "execution_count": 26
        }
      ]
    },
    {
      "cell_type": "code",
      "metadata": {
        "colab": {
          "base_uri": "https://localhost:8080/"
        },
        "id": "2h1HEON1Ab70",
        "outputId": "09826f6d-4381-4e63-f718-9c96477410c5"
      },
      "source": [
        "df['oldbalanceOrg'].unique()"
      ],
      "execution_count": 27,
      "outputs": [
        {
          "output_type": "execute_result",
          "data": {
            "text/plain": [
              "array([1.70136000e+05, 2.12490000e+04, 1.81000000e+02, ...,\n",
              "       4.13230560e+06, 4.54703484e+06, 4.87581094e+06])"
            ]
          },
          "metadata": {},
          "execution_count": 27
        }
      ]
    },
    {
      "cell_type": "code",
      "metadata": {
        "colab": {
          "base_uri": "https://localhost:8080/"
        },
        "id": "f8QzHcULAj2t",
        "outputId": "dd345787-cba4-44f2-9106-b95310c88839"
      },
      "source": [
        "df['newbalanceOrig'].unique()"
      ],
      "execution_count": 28,
      "outputs": [
        {
          "output_type": "execute_result",
          "data": {
            "text/plain": [
              "array([ 160296.36,   19384.72,       0.  , ..., 4547034.84, 4875810.94,\n",
              "       4926346.82])"
            ]
          },
          "metadata": {},
          "execution_count": 28
        }
      ]
    },
    {
      "cell_type": "code",
      "metadata": {
        "colab": {
          "base_uri": "https://localhost:8080/"
        },
        "id": "o7TMba5XA7NQ",
        "outputId": "dd72e140-8070-4fee-fcea-8fa6ac783ee0"
      },
      "source": [
        "df['oldbalanceDest'].unique()"
      ],
      "execution_count": 29,
      "outputs": [
        {
          "output_type": "execute_result",
          "data": {
            "text/plain": [
              "array([      0.  ,   21182.  ,   41898.  , ..., 2109808.94, 1019467.84,\n",
              "         70183.75])"
            ]
          },
          "metadata": {},
          "execution_count": 29
        }
      ]
    },
    {
      "cell_type": "code",
      "metadata": {
        "colab": {
          "base_uri": "https://localhost:8080/"
        },
        "id": "0LJY0mA-BPbd",
        "outputId": "ef079386-b8f1-43c9-9c73-527125464e81"
      },
      "source": [
        "df['newbalanceDest'].unique()"
      ],
      "execution_count": 30,
      "outputs": [
        {
          "output_type": "execute_result",
          "data": {
            "text/plain": [
              "array([0.00000000e+00, 4.03487900e+04, 1.57982120e+05, 5.15134400e+04,\n",
              "       1.68967000e+04, 2.71917289e+06, 1.69972200e+04, 2.41516000e+03,\n",
              "       6.41061800e+04, 6.45343091e+06, 8.38329000e+03, 4.98643600e+04,\n",
              "       2.40441800e+04, 9.65870050e+05, 2.22336500e+04, 2.77515050e+05,\n",
              "       3.42010309e+06, 1.91692049e+07, 5.51576334e+06, 1.65183600e+04,\n",
              "       2.10777811e+06, 4.64622300e+04, 9.94033929e+06, 1.09636600e+04,\n",
              "       9.55089500e+04, 4.68207100e+04, 1.17880814e+06, 9.71418910e+05,\n",
              "       1.51726216e+06, 5.24151500e+04, 4.36910900e+04, 1.25495607e+06,\n",
              "       8.91754000e+03, 3.94008521e+06, 4.89445000e+03, 9.72637800e+04,\n",
              "       1.89108500e+04, 2.21909900e+04, 1.56743481e+06, 8.49661000e+03,\n",
              "       3.46166605e+06, 1.41248409e+06, 1.18655681e+06, 5.57537260e+05,\n",
              "       9.68800000e+01, 2.15851280e+05, 1.30747560e+05, 2.10796539e+06,\n",
              "       5.59745600e+04, 6.31122300e+04, 5.93737380e+05, 1.36336851e+06,\n",
              "       9.23076500e+04, 4.61979856e+06, 5.41723000e+03, 9.71281900e+04,\n",
              "       3.14697800e+04, 3.18637360e+05, 3.53532560e+05, 4.24250450e+05,\n",
              "       1.89534740e+05, 6.65755000e+04, 2.02509866e+06, 4.20946860e+05,\n",
              "       1.01513248e+06, 5.60223495e+06, 5.00631710e+05, 5.20354000e+03,\n",
              "       5.49850500e+04, 4.24507100e+04, 1.89179000e+03, 8.38452200e+04,\n",
              "       1.05888853e+07, 2.65092360e+05, 2.90772600e+05, 1.22750490e+05,\n",
              "       1.06812388e+07, 3.87263020e+05, 2.35082200e+04, 4.63938500e+04,\n",
              "       1.81617900e+04, 4.89109056e+06, 1.53753700e+04, 1.85389800e+05,\n",
              "       2.27742500e+04, 1.24943672e+07, 9.67267000e+03, 6.97568600e+04,\n",
              "       5.76430200e+04, 6.51524920e+05, 1.68746431e+07, 1.21458500e+04,\n",
              "       3.67576800e+04, 1.32842640e+05, 7.55003000e+03, 2.35689100e+04,\n",
              "       3.55429927e+06, 9.29161962e+06, 3.20920700e+04, 2.52055240e+05,\n",
              "       8.42129400e+04, 1.29010800e+04, 3.99776855e+06, 3.72036100e+04,\n",
              "       6.83083000e+03, 1.97272600e+04, 9.83706000e+03, 2.47063160e+05,\n",
              "       1.39555440e+05, 6.07380300e+04, 1.26866892e+06, 2.44498519e+06,\n",
              "       5.48437000e+03, 3.30084400e+04, 1.45660600e+04, 2.31746800e+04,\n",
              "       1.78605400e+04, 5.83197200e+04, 1.86270200e+04, 8.97150840e+05,\n",
              "       1.39915180e+05, 2.73168300e+04, 9.98032000e+03, 6.42595200e+04,\n",
              "       6.77629200e+04, 3.43613900e+04, 1.22027280e+05, 1.93018940e+05,\n",
              "       3.88396000e+03, 1.41110620e+05, 2.84223700e+04, 7.08608070e+05,\n",
              "       2.60864000e+03, 4.58812900e+04, 6.72680200e+04, 2.04822850e+05,\n",
              "       2.33370360e+05, 1.99873790e+05, 1.68200300e+04, 1.11478721e+06,\n",
              "       2.35238660e+05, 1.78120160e+05, 2.94793400e+04, 5.02480020e+05,\n",
              "       5.74721500e+04, 2.41220250e+05, 4.07298230e+05, 8.17210000e+02,\n",
              "       3.41552200e+04, 1.58433780e+05, 3.33165400e+04, 1.84747000e+04,\n",
              "       1.03895800e+04, 1.37051000e+03, 2.17862210e+05, 5.22786000e+03,\n",
              "       1.22981000e+03, 4.71480000e+03, 3.73838990e+05, 4.29006700e+04,\n",
              "       2.48817480e+05, 6.70668000e+03, 6.01898440e+05, 3.83533350e+05,\n",
              "       6.37928740e+05, 4.59822800e+04, 1.53263000e+04, 4.79233300e+04,\n",
              "       7.44264960e+05, 6.60966712e+06, 2.02857900e+04, 5.28453500e+04,\n",
              "       1.18711417e+06, 3.72677023e+06, 1.38395490e+05, 9.36771452e+06,\n",
              "       1.01555640e+07, 1.00111690e+05, 6.53474607e+06, 4.74098500e+04,\n",
              "       8.77201480e+05, 9.79902900e+04, 1.10735562e+07, 1.03167330e+05,\n",
              "       8.49168200e+04, 4.74571700e+04, 3.48568900e+04, 1.47251580e+05,\n",
              "       1.09421190e+05, 4.83173630e+05, 3.93957760e+05, 3.41994448e+06,\n",
              "       1.76131800e+05, 1.19147103e+07, 9.04505400e+04, 2.24705730e+05,\n",
              "       1.15532127e+06, 1.06954806e+07, 3.96435631e+06, 8.14113890e+05,\n",
              "       7.61202700e+04, 2.52347500e+04, 5.72979914e+06, 4.62935377e+06,\n",
              "       1.07070275e+06, 5.37430600e+04, 8.72511800e+04, 7.92325380e+05,\n",
              "       5.86387800e+04, 1.09721845e+06, 8.28466700e+04, 1.35715810e+05,\n",
              "       2.67912200e+05, 2.50537300e+04, 8.60701700e+04, 3.52750760e+05,\n",
              "       6.11512300e+04, 2.90655106e+06, 3.30085600e+05, 4.41097557e+06,\n",
              "       5.57956865e+06, 4.69207530e+05, 5.05670737e+06, 1.00358320e+05,\n",
              "       1.52822000e+03, 5.15743500e+04, 8.81377661e+06, 1.92383634e+06,\n",
              "       8.19933700e+04, 2.48123600e+04, 7.41440400e+04, 7.19030800e+04,\n",
              "       8.38668600e+04, 3.11229000e+03, 1.79171089e+06, 7.53294000e+04,\n",
              "       1.81226287e+07, 1.01359112e+07, 1.75044700e+04, 1.03176600e+04,\n",
              "       2.10716210e+06, 2.35395500e+04, 8.72297000e+03, 3.79539920e+05,\n",
              "       1.25904581e+06, 7.41618479e+06, 1.69944000e+03, 3.14561000e+03,\n",
              "       1.20419000e+03, 1.38627650e+05, 1.73135980e+05, 2.82014160e+05,\n",
              "       3.54157838e+06, 2.79869237e+06, 1.11428900e+04, 1.52822701e+06,\n",
              "       4.49166440e+05, 1.30029100e+04, 6.82358700e+04, 1.54534400e+04,\n",
              "       2.41346840e+05, 3.60326580e+05, 2.06120000e+02, 6.48369700e+04,\n",
              "       8.62422700e+04, 2.83047180e+05, 3.54758530e+05, 1.66849299e+07,\n",
              "       3.84739900e+04, 1.06597900e+04, 1.41949630e+05, 6.76824000e+03,\n",
              "       1.00535300e+04, 2.09201420e+05, 1.16647090e+06, 2.20532800e+04,\n",
              "       4.00023300e+04, 2.81857030e+05, 4.90598700e+04, 7.07139200e+04,\n",
              "       2.94910200e+04, 1.73209100e+04, 1.26632210e+05, 1.38631200e+04,\n",
              "       9.09550900e+04, 5.92289450e+05, 6.77221700e+04, 1.09591471e+06,\n",
              "       2.17318860e+05, 1.09618724e+06, 3.60546200e+04, 1.25556040e+05,\n",
              "       2.51837800e+04, 1.97285120e+05, 1.79100163e+06, 3.03104480e+05,\n",
              "       1.28019400e+04, 3.16997390e+05, 8.16187000e+03, 1.87096370e+05,\n",
              "       4.93092700e+04, 1.84938800e+04, 4.68697200e+04, 2.33154800e+04,\n",
              "       1.61414200e+04, 1.08571040e+05, 3.22045700e+04, 1.83763580e+05,\n",
              "       3.08871370e+05, 1.75834000e+04, 3.20498500e+04, 4.48593630e+05,\n",
              "       3.31116300e+04, 2.35838800e+04, 2.05180227e+06, 5.68470200e+04,\n",
              "       9.21817650e+05, 7.31476000e+04, 6.17488400e+05, 4.51776153e+06,\n",
              "       2.70110780e+05, 6.81893360e+06, 1.84007694e+06, 1.74843614e+06,\n",
              "       3.33328600e+04, 3.64071900e+04, 5.47215120e+05, 2.16732000e+03,\n",
              "       1.30608262e+07, 5.39820600e+04, 9.66365600e+04, 7.07475463e+06,\n",
              "       6.65487500e+04, 1.20074730e+05, 6.88807900e+04, 3.20896639e+06,\n",
              "       7.76041485e+06, 1.31393100e+06, 1.67163390e+05, 4.58875870e+05,\n",
              "       6.23576654e+06, 1.06663410e+06, 2.48591801e+06, 1.11573362e+07,\n",
              "       4.86798020e+05, 7.10389950e+06, 7.17352349e+06, 7.47314122e+06,\n",
              "       5.79213589e+06, 2.68130780e+05, 1.11628938e+06, 1.40163410e+05,\n",
              "       8.15844400e+04, 7.78162020e+05, 4.45074026e+06, 2.27369300e+04,\n",
              "       3.03473140e+05, 1.95932400e+05, 4.77058000e+03, 1.50110300e+04,\n",
              "       1.47962310e+05, 6.72349600e+04, 1.92932600e+04, 2.56055645e+06,\n",
              "       5.49946930e+05, 1.37071100e+04, 2.93792800e+04, 2.12625900e+04,\n",
              "       2.80487560e+05, 3.60789300e+04, 6.21115300e+04, 6.02054200e+04,\n",
              "       2.43247900e+04, 9.33806500e+04, 2.77086000e+04, 8.62902000e+03,\n",
              "       2.94361460e+06, 3.80957013e+06, 1.82906200e+05, 3.27229360e+05,\n",
              "       5.37703000e+03, 1.07159070e+05, 7.42264000e+04, 7.25410500e+04,\n",
              "       1.12814600e+04, 1.59455945e+07, 9.03202700e+04, 7.61673000e+03,\n",
              "       1.98249106e+06, 7.04071000e+04, 9.12686040e+06, 1.37857036e+06,\n",
              "       9.98913364e+06, 9.96031500e+04, 4.01558400e+04, 1.57284187e+06,\n",
              "       6.43354000e+03, 7.28920000e+03, 4.11823600e+04, 6.51679100e+04,\n",
              "       1.46772600e+04, 8.61702000e+03, 9.30271580e+05, 4.82981460e+05,\n",
              "       1.09950260e+06, 2.15080020e+05, 8.42619500e+04, 7.23066600e+04,\n",
              "       1.55166960e+05, 7.92812625e+06, 9.67081467e+06, 7.45842500e+04,\n",
              "       3.31525890e+05, 5.77921900e+04, 3.51260605e+06, 7.87490000e+02,\n",
              "       1.24586509e+07, 1.15659179e+07, 2.91586800e+04, 1.65878600e+05,\n",
              "       8.23994600e+04, 4.11058340e+05, 5.40973900e+04, 1.36931460e+05,\n",
              "       2.53908500e+04, 8.42071500e+04, 3.12498200e+04, 6.54034628e+06,\n",
              "       3.08745420e+05, 7.36041000e+03, 1.76661900e+04, 1.09377600e+04,\n",
              "       1.47309300e+04, 5.08628000e+03, 1.03776890e+05, 1.50192940e+05,\n",
              "       7.62673200e+04, 1.52509080e+05, 6.65484300e+04, 2.49605300e+04,\n",
              "       2.65797500e+04, 1.04320700e+04, 2.11306800e+04, 2.01719200e+04,\n",
              "       1.70314300e+04, 1.88715380e+05, 1.11995960e+05, 4.16581850e+05,\n",
              "       1.25857290e+05, 1.44203700e+05, 1.88861200e+04, 6.34906660e+06,\n",
              "       1.44215600e+04, 1.80770000e+03, 8.59612000e+04, 4.27467300e+04,\n",
              "       2.44165000e+04, 5.09424200e+04, 1.00768700e+04, 1.17572100e+04,\n",
              "       1.78200600e+05, 1.77782914e+07, 1.17717125e+06, 4.91744900e+04,\n",
              "       2.85229700e+05, 1.02947560e+05, 1.25226990e+05, 1.35549640e+05,\n",
              "       3.54805290e+05, 2.11121800e+04, 1.48278190e+05, 1.39849810e+05,\n",
              "       1.69393600e+04, 1.05393700e+04, 1.56806600e+04, 1.37893880e+05,\n",
              "       9.07620000e+03, 2.62624100e+05, 2.86841740e+05, 1.09464113e+07,\n",
              "       1.21384104e+07, 7.80117317e+06, 1.79613808e+06, 1.06709072e+07,\n",
              "       1.80211100e+04, 1.29465834e+07, 1.64067866e+06, 3.75774524e+06,\n",
              "       6.77802576e+06, 7.81021406e+06, 3.44441760e+05, 3.74354000e+04,\n",
              "       2.10980894e+06, 1.62818142e+06, 1.48202515e+06, 4.79017309e+06,\n",
              "       5.51594957e+06, 1.24042910e+05, 1.22805910e+05, 4.43902600e+04,\n",
              "       8.90796600e+04, 4.62626100e+04, 1.46396300e+04, 4.94767000e+04,\n",
              "       3.52290000e+03, 1.62085000e+04, 7.46384200e+04, 2.40742500e+04,\n",
              "       1.18276630e+05, 2.18267705e+06, 1.00836140e+05, 6.46875400e+05,\n",
              "       2.59015250e+05, 9.94570400e+04, 1.82634266e+07, 6.80071651e+06,\n",
              "       6.96350884e+06, 2.65635700e+05, 9.95354000e+04, 2.59438660e+05,\n",
              "       2.64801313e+06, 1.61587457e+06, 2.29190560e+05, 9.84468300e+04,\n",
              "       2.27513560e+05, 1.93361510e+05, 2.28770000e+04, 1.67476470e+05,\n",
              "       2.52667530e+05, 2.11010100e+04, 1.39173950e+05, 4.22704900e+04,\n",
              "       8.97570958e+06, 1.62396237e+06, 5.96604000e+03, 6.64477000e+03,\n",
              "       1.35658982e+06, 2.77231214e+06, 5.69273746e+06, 6.67193133e+06,\n",
              "       3.40848000e+03, 2.17964090e+05, 2.74838399e+06, 6.02378500e+04,\n",
              "       1.18844670e+05, 5.13619100e+04, 6.89472918e+06, 5.95661200e+04,\n",
              "       2.59758600e+04, 4.57309400e+04, 6.19867500e+04, 8.12769600e+04,\n",
              "       8.85441500e+04, 8.63756500e+04, 4.06981800e+04, 7.80055000e+03,\n",
              "       1.06344349e+06, 9.94190421e+06, 6.30118400e+04, 4.49549900e+04,\n",
              "       1.93663490e+05, 2.67636800e+04, 4.77531966e+06, 7.42165130e+05,\n",
              "       1.33812425e+07, 1.23018700e+04, 3.29805000e+03, 3.94729000e+03,\n",
              "       1.10352700e+04, 4.63477500e+04, 1.30962048e+06, 1.72585908e+07,\n",
              "       3.02838215e+06, 4.39745299e+06, 1.29474364e+07, 3.73178700e+04,\n",
              "       3.07974100e+04, 1.94531930e+05, 6.24950006e+06, 1.03918690e+05,\n",
              "       7.72752276e+06, 7.43479781e+06, 6.73605444e+06, 1.56809300e+04,\n",
              "       1.34364000e+03, 3.36737080e+05, 5.38434315e+06, 1.73516340e+05,\n",
              "       1.89527570e+05, 5.21467600e+04, 1.63452400e+04, 6.07265700e+04,\n",
              "       7.53711600e+04, 8.22083500e+04, 7.84224300e+04, 4.09009300e+04,\n",
              "       7.47458900e+04, 1.74172479e+06, 1.05680920e+05, 2.89012040e+05,\n",
              "       2.87772320e+05, 4.48276170e+05, 1.75152300e+04, 2.45770790e+05,\n",
              "       3.69910800e+04, 5.13374500e+04, 2.67685000e+04, 1.42377500e+04,\n",
              "       9.88452600e+04, 1.57867820e+05, 4.42556600e+04, 1.06903280e+05,\n",
              "       1.69941730e+05, 2.45514210e+05, 1.79176650e+05, 3.05210200e+04,\n",
              "       1.19995600e+04, 7.12253900e+04, 7.82976255e+06, 3.92650700e+04,\n",
              "       8.01636959e+06, 4.55191580e+05, 1.23628168e+07, 2.97998360e+05,\n",
              "       1.30712293e+07, 9.06564460e+05, 3.28883178e+06, 6.66138587e+06,\n",
              "       2.96332300e+04, 5.06201700e+04, 1.42381137e+06, 2.44180060e+05,\n",
              "       2.80972000e+03, 2.04653870e+05, 1.10546700e+04, 4.87318400e+04,\n",
              "       1.35191000e+04, 1.73847300e+04, 1.08111000e+04, 7.94079300e+04,\n",
              "       1.56003570e+05, 2.62374400e+05, 1.17634010e+05, 2.76068800e+04,\n",
              "       3.67830215e+06, 1.93726720e+06, 1.41339826e+07, 1.12013600e+04,\n",
              "       1.94341700e+04, 4.95456500e+04, 1.72958830e+05, 6.69518000e+03,\n",
              "       8.74328064e+06, 1.66742650e+05, 2.98682800e+05, 7.35951500e+04,\n",
              "       1.33220410e+05, 5.15470022e+06, 4.67097814e+06, 7.12955936e+06,\n",
              "       4.65152900e+04, 9.62737600e+05, 8.76481820e+05, 6.62217200e+04,\n",
              "       2.17562010e+05, 1.09779080e+05, 1.64205563e+07, 9.82754697e+06,\n",
              "       2.24685600e+04, 8.29053100e+04, 6.39313971e+06, 1.81733940e+05,\n",
              "       1.11269400e+04, 2.89908330e+05, 2.75345000e+04, 9.44225120e+05,\n",
              "       4.31393972e+06, 6.19948200e+04, 6.16153775e+06, 4.88423300e+04,\n",
              "       2.89419500e+04, 4.28623000e+03, 5.64297100e+04, 1.73024370e+05,\n",
              "       1.30250979e+07, 1.58906596e+06, 6.93209215e+06, 3.41633000e+03,\n",
              "       1.96478800e+04, 6.30126500e+04, 6.03147300e+04, 2.80855573e+06,\n",
              "       4.42939413e+06, 8.43620600e+04, 6.52290450e+05, 2.31223100e+04,\n",
              "       5.20310294e+06, 4.29639780e+06, 1.90017200e+04, 1.60577570e+05,\n",
              "       6.43407139e+06, 2.49071859e+06, 1.54982500e+04, 5.18275300e+04,\n",
              "       1.69507969e+06])"
            ]
          },
          "metadata": {},
          "execution_count": 30
        }
      ]
    },
    {
      "cell_type": "code",
      "metadata": {
        "colab": {
          "base_uri": "https://localhost:8080/",
          "height": 295
        },
        "id": "mg8dFidzBh8c",
        "outputId": "acc091c9-6d26-4d77-cfcd-1e7a6bea6cce"
      },
      "source": [
        "df['amount'].hist()"
      ],
      "execution_count": 31,
      "outputs": [
        {
          "output_type": "execute_result",
          "data": {
            "text/plain": [
              "<matplotlib.axes._subplots.AxesSubplot at 0x7fe62d42cd10>"
            ]
          },
          "metadata": {},
          "execution_count": 31
        },
        {
          "output_type": "display_data",
          "data": {
            "image/png": "[encoded data removed]",
            "text/plain": [
              "<Figure size 432x288 with 1 Axes>"
            ]
          },
          "metadata": {
            "needs_background": "light"
          }
        }
      ]
    },
    {
      "cell_type": "code",
      "metadata": {
        "colab": {
          "base_uri": "https://localhost:8080/",
          "height": 295
        },
        "id": "1KsO48YRBrVi",
        "outputId": "9c13a66d-dd9d-4927-bf66-38bd6784ffbc"
      },
      "source": [
        "df['oldbalanceOrg'].hist()"
      ],
      "execution_count": 32,
      "outputs": [
        {
          "output_type": "execute_result",
          "data": {
            "text/plain": [
              "<matplotlib.axes._subplots.AxesSubplot at 0x7fe62da89d50>"
            ]
          },
          "metadata": {},
          "execution_count": 32
        },
        {
          "output_type": "display_data",
          "data": {
            "image/png": "[encoded data removed]",
            "text/plain": [
              "<Figure size 432x288 with 1 Axes>"
            ]
          },
          "metadata": {
            "needs_background": "light"
          }
        }
      ]
    },
    {
      "cell_type": "code",
      "metadata": {
        "colab": {
          "base_uri": "https://localhost:8080/",
          "height": 295
        },
        "id": "m3SLMB0IByD5",
        "outputId": "6175e2f1-f005-40f0-8d43-760af63a3a25"
      },
      "source": [
        "df['newbalanceOrig'].hist()"
      ],
      "execution_count": 33,
      "outputs": [
        {
          "output_type": "execute_result",
          "data": {
            "text/plain": [
              "<matplotlib.axes._subplots.AxesSubplot at 0x7fe62deb4f50>"
            ]
          },
          "metadata": {},
          "execution_count": 33
        },
        {
          "output_type": "display_data",
          "data": {
            "image/png": "[encoded data removed]",
            "text/plain": [
              "<Figure size 432x288 with 1 Axes>"
            ]
          },
          "metadata": {
            "needs_background": "light"
          }
        }
      ]
    },
    {
      "cell_type": "code",
      "metadata": {
        "colab": {
          "base_uri": "https://localhost:8080/",
          "height": 295
        },
        "id": "jxbWM4IKB8kN",
        "outputId": "9b2a912d-7ff1-4384-9311-4e9ae04b687a"
      },
      "source": [
        "df['oldbalanceDest'].hist()"
      ],
      "execution_count": 34,
      "outputs": [
        {
          "output_type": "execute_result",
          "data": {
            "text/plain": [
              "<matplotlib.axes._subplots.AxesSubplot at 0x7fe62d8ef7d0>"
            ]
          },
          "metadata": {},
          "execution_count": 34
        },
        {
          "output_type": "display_data",
          "data": {
            "image/png": "[encoded data removed]",
            "text/plain": [
              "<Figure size 432x288 with 1 Axes>"
            ]
          },
          "metadata": {
            "needs_background": "light"
          }
        }
      ]
    },
    {
      "cell_type": "code",
      "metadata": {
        "colab": {
          "base_uri": "https://localhost:8080/",
          "height": 295
        },
        "id": "uaHdA1wTCDwJ",
        "outputId": "0fdfa99b-ca3b-471f-d064-f8f0d67eb4fe"
      },
      "source": [
        "df['newbalanceDest'].hist()"
      ],
      "execution_count": 35,
      "outputs": [
        {
          "output_type": "execute_result",
          "data": {
            "text/plain": [
              "<matplotlib.axes._subplots.AxesSubplot at 0x7fe62dc6d9d0>"
            ]
          },
          "metadata": {},
          "execution_count": 35
        },
        {
          "output_type": "display_data",
          "data": {
            "image/png": "[encoded data removed]",
            "text/plain": [
              "<Figure size 432x288 with 1 Axes>"
            ]
          },
          "metadata": {
            "needs_background": "light"
          }
        }
      ]
    },
    {
      "cell_type": "code",
      "metadata": {
        "colab": {
          "base_uri": "https://localhost:8080/",
          "height": 351
        },
        "id": "PnDiEWwJGTPR",
        "outputId": "41bb1a16-bbee-41c6-f9b2-a01c740aecc5"
      },
      "source": [
        "\n",
        "sns.boxplot(df['amount'])"
      ],
      "execution_count": 36,
      "outputs": [
        {
          "output_type": "stream",
          "name": "stderr",
          "text": [
            "/usr/local/lib/python3.7/dist-packages/seaborn/_decorators.py:43: FutureWarning: Pass the following variable as a keyword arg: x. From version 0.12, the only valid positional argument will be `data`, and passing other arguments without an explicit keyword will result in an error or misinterpretation.\n",
            "  FutureWarning\n"
          ]
        },
        {
          "output_type": "execute_result",
          "data": {
            "text/plain": [
              "<matplotlib.axes._subplots.AxesSubplot at 0x7fe62db56350>"
            ]
          },
          "metadata": {},
          "execution_count": 36
        },
        {
          "output_type": "display_data",
          "data": {
            "image/png": "[encoded data removed]",
            "text/plain": [
              "<Figure size 432x288 with 1 Axes>"
            ]
          },
          "metadata": {
            "needs_background": "light"
          }
        }
      ]
    },
    {
      "cell_type": "code",
      "metadata": {
        "colab": {
          "base_uri": "https://localhost:8080/",
          "height": 351
        },
        "id": "z4mTwB7iHJ76",
        "outputId": "e6aa5113-7edf-4491-8cf0-b37fa9ed377f"
      },
      "source": [
        "sns.boxplot(df['oldbalanceOrg'])"
      ],
      "execution_count": 37,
      "outputs": [
        {
          "output_type": "stream",
          "name": "stderr",
          "text": [
            "/usr/local/lib/python3.7/dist-packages/seaborn/_decorators.py:43: FutureWarning: Pass the following variable as a keyword arg: x. From version 0.12, the only valid positional argument will be `data`, and passing other arguments without an explicit keyword will result in an error or misinterpretation.\n",
            "  FutureWarning\n"
          ]
        },
        {
          "output_type": "execute_result",
          "data": {
            "text/plain": [
              "<matplotlib.axes._subplots.AxesSubplot at 0x7fe62dbc8bd0>"
            ]
          },
          "metadata": {},
          "execution_count": 37
        },
        {
          "output_type": "display_data",
          "data": {
            "image/png": "[encoded data removed]",
            "text/plain": [
              "<Figure size 432x288 with 1 Axes>"
            ]
          },
          "metadata": {
            "needs_background": "light"
          }
        }
      ]
    },
    {
      "cell_type": "code",
      "metadata": {
        "colab": {
          "base_uri": "https://localhost:8080/",
          "height": 351
        },
        "id": "XxqojF9JHRhT",
        "outputId": "8598e61a-4bd1-4193-ba96-cfa448d53f5f"
      },
      "source": [
        "sns.boxplot(df['newbalanceOrig'])"
      ],
      "execution_count": 38,
      "outputs": [
        {
          "output_type": "stream",
          "name": "stderr",
          "text": [
            "/usr/local/lib/python3.7/dist-packages/seaborn/_decorators.py:43: FutureWarning: Pass the following variable as a keyword arg: x. From version 0.12, the only valid positional argument will be `data`, and passing other arguments without an explicit keyword will result in an error or misinterpretation.\n",
            "  FutureWarning\n"
          ]
        },
        {
          "output_type": "execute_result",
          "data": {
            "text/plain": [
              "<matplotlib.axes._subplots.AxesSubplot at 0x7fe62d6b7690>"
            ]
          },
          "metadata": {},
          "execution_count": 38
        },
        {
          "output_type": "display_data",
          "data": {
            "image/png": "[encoded data removed]",
            "text/plain": [
              "<Figure size 432x288 with 1 Axes>"
            ]
          },
          "metadata": {
            "needs_background": "light"
          }
        }
      ]
    },
    {
      "cell_type": "code",
      "metadata": {
        "colab": {
          "base_uri": "https://localhost:8080/",
          "height": 351
        },
        "id": "mg9amJOwHYjd",
        "outputId": "33787ef4-854c-4692-edc1-bbdf63a5d7d1"
      },
      "source": [
        "sns.boxplot(df['oldbalanceDest'])"
      ],
      "execution_count": 39,
      "outputs": [
        {
          "output_type": "stream",
          "name": "stderr",
          "text": [
            "/usr/local/lib/python3.7/dist-packages/seaborn/_decorators.py:43: FutureWarning: Pass the following variable as a keyword arg: x. From version 0.12, the only valid positional argument will be `data`, and passing other arguments without an explicit keyword will result in an error or misinterpretation.\n",
            "  FutureWarning\n"
          ]
        },
        {
          "output_type": "execute_result",
          "data": {
            "text/plain": [
              "<matplotlib.axes._subplots.AxesSubplot at 0x7fe62d29e190>"
            ]
          },
          "metadata": {},
          "execution_count": 39
        },
        {
          "output_type": "display_data",
          "data": {
            "image/png": "[encoded data removed]",
            "text/plain": [
              "<Figure size 432x288 with 1 Axes>"
            ]
          },
          "metadata": {
            "needs_background": "light"
          }
        }
      ]
    },
    {
      "cell_type": "code",
      "metadata": {
        "colab": {
          "base_uri": "https://localhost:8080/",
          "height": 351
        },
        "id": "pBZIO2ozHl5B",
        "outputId": "acc6b725-6efb-4c2a-abb8-e6b0fe4dcc65"
      },
      "source": [
        "sns.boxplot(df['newbalanceDest'])"
      ],
      "execution_count": 40,
      "outputs": [
        {
          "output_type": "stream",
          "name": "stderr",
          "text": [
            "/usr/local/lib/python3.7/dist-packages/seaborn/_decorators.py:43: FutureWarning: Pass the following variable as a keyword arg: x. From version 0.12, the only valid positional argument will be `data`, and passing other arguments without an explicit keyword will result in an error or misinterpretation.\n",
            "  FutureWarning\n"
          ]
        },
        {
          "output_type": "execute_result",
          "data": {
            "text/plain": [
              "<matplotlib.axes._subplots.AxesSubplot at 0x7fe62de67e90>"
            ]
          },
          "metadata": {},
          "execution_count": 40
        },
        {
          "output_type": "display_data",
          "data": {
            "image/png": "[encoded data removed]",
            "text/plain": [
              "<Figure size 432x288 with 1 Axes>"
            ]
          },
          "metadata": {
            "needs_background": "light"
          }
        }
      ]
    },
    {
      "cell_type": "code",
      "metadata": {
        "colab": {
          "base_uri": "https://localhost:8080/"
        },
        "id": "Qc-tKxfYHq7N",
        "outputId": "a374b006-d974-46de-9ea6-c7c804b154c1"
      },
      "source": [
        "df.type.value_counts()"
      ],
      "execution_count": 41,
      "outputs": [
        {
          "output_type": "execute_result",
          "data": {
            "text/plain": [
              "PAYMENT     2587\n",
              "CASH_IN     1082\n",
              "CASH_OUT     631\n",
              "TRANSFER     437\n",
              "DEBIT        263\n",
              "Name: type, dtype: int64"
            ]
          },
          "metadata": {},
          "execution_count": 41
        }
      ]
    },
    {
      "cell_type": "code",
      "metadata": {
        "colab": {
          "base_uri": "https://localhost:8080/"
        },
        "id": "ZZ-qjEbwII5Z",
        "outputId": "601bd501-7bee-4d23-add8-616f6547f5bc"
      },
      "source": [
        "df.isFraud.value_counts()"
      ],
      "execution_count": 42,
      "outputs": [
        {
          "output_type": "execute_result",
          "data": {
            "text/plain": [
              "0    4960\n",
              "1      40\n",
              "Name: isFraud, dtype: int64"
            ]
          },
          "metadata": {},
          "execution_count": 42
        }
      ]
    },
    {
      "cell_type": "code",
      "metadata": {
        "colab": {
          "base_uri": "https://localhost:8080/"
        },
        "id": "iSJltkRAIR3u",
        "outputId": "dfb23b78-179b-4091-f945-a46f438bbe59"
      },
      "source": [
        "df.isFlaggedFraud.value_counts()"
      ],
      "execution_count": 43,
      "outputs": [
        {
          "output_type": "execute_result",
          "data": {
            "text/plain": [
              "0    5000\n",
              "Name: isFlaggedFraud, dtype: int64"
            ]
          },
          "metadata": {},
          "execution_count": 43
        }
      ]
    },
    {
      "cell_type": "code",
      "metadata": {
        "colab": {
          "base_uri": "https://localhost:8080/",
          "height": 461
        },
        "id": "ddIv3B5qI2bG",
        "outputId": "ee8e4679-f337-40ea-cfc8-9e15c94f7486"
      },
      "source": [
        "df.isna()"
      ],
      "execution_count": 44,
      "outputs": [
        {
          "output_type": "execute_result",
          "data": {
            "text/html": [
              "<div>\n",
              "<style scoped>\n",
              "    .dataframe tbody tr th:only-of-type {\n",
              "        vertical-align: middle;\n",
              "    }\n",
              "\n",
              "    .dataframe tbody tr th {\n",
              "        vertical-align: top;\n",
              "    }\n",
              "\n",
              "    .dataframe thead th {\n",
              "        text-align: right;\n",
              "    }\n",
              "</style>\n",
              "<table border=\"1\" class=\"dataframe\">\n",
              "  <thead>\n",
              "    <tr style=\"text-align: right;\">\n",
              "      <th></th>\n",
              "      <th>Unnamed: 0</th>\n",
              "      <th>step</th>\n",
              "      <th>type</th>\n",
              "      <th>amount</th>\n",
              "      <th>nameOrig</th>\n",
              "      <th>oldbalanceOrg</th>\n",
              "      <th>newbalanceOrig</th>\n",
              "      <th>nameDest</th>\n",
              "      <th>oldbalanceDest</th>\n",
              "      <th>newbalanceDest</th>\n",
              "      <th>isFraud</th>\n",
              "      <th>isFlaggedFraud</th>\n",
              "    </tr>\n",
              "  </thead>\n",
              "  <tbody>\n",
              "    <tr>\n",
              "      <th>0</th>\n",
              "      <td>False</td>\n",
              "      <td>False</td>\n",
              "      <td>False</td>\n",
              "      <td>False</td>\n",
              "      <td>False</td>\n",
              "      <td>False</td>\n",
              "      <td>False</td>\n",
              "      <td>False</td>\n",
              "      <td>False</td>\n",
              "      <td>False</td>\n",
              "      <td>False</td>\n",
              "      <td>False</td>\n",
              "    </tr>\n",
              "    <tr>\n",
              "      <th>1</th>\n",
              "      <td>False</td>\n",
              "      <td>False</td>\n",
              "      <td>False</td>\n",
              "      <td>False</td>\n",
              "      <td>False</td>\n",
              "      <td>False</td>\n",
              "      <td>False</td>\n",
              "      <td>False</td>\n",
              "      <td>False</td>\n",
              "      <td>False</td>\n",
              "      <td>False</td>\n",
              "      <td>False</td>\n",
              "    </tr>\n",
              "    <tr>\n",
              "      <th>2</th>\n",
              "      <td>False</td>\n",
              "      <td>False</td>\n",
              "      <td>False</td>\n",
              "      <td>False</td>\n",
              "      <td>False</td>\n",
              "      <td>False</td>\n",
              "      <td>False</td>\n",
              "      <td>False</td>\n",
              "      <td>False</td>\n",
              "      <td>False</td>\n",
              "      <td>False</td>\n",
              "      <td>False</td>\n",
              "    </tr>\n",
              "    <tr>\n",
              "      <th>3</th>\n",
              "      <td>False</td>\n",
              "      <td>False</td>\n",
              "      <td>False</td>\n",
              "      <td>False</td>\n",
              "      <td>False</td>\n",
              "      <td>False</td>\n",
              "      <td>False</td>\n",
              "      <td>False</td>\n",
              "      <td>False</td>\n",
              "      <td>False</td>\n",
              "      <td>False</td>\n",
              "      <td>False</td>\n",
              "    </tr>\n",
              "    <tr>\n",
              "      <th>4</th>\n",
              "      <td>False</td>\n",
              "      <td>False</td>\n",
              "      <td>False</td>\n",
              "      <td>False</td>\n",
              "      <td>False</td>\n",
              "      <td>False</td>\n",
              "      <td>False</td>\n",
              "      <td>False</td>\n",
              "      <td>False</td>\n",
              "      <td>False</td>\n",
              "      <td>False</td>\n",
              "      <td>False</td>\n",
              "    </tr>\n",
              "    <tr>\n",
              "      <th>...</th>\n",
              "      <td>...</td>\n",
              "      <td>...</td>\n",
              "      <td>...</td>\n",
              "      <td>...</td>\n",
              "      <td>...</td>\n",
              "      <td>...</td>\n",
              "      <td>...</td>\n",
              "      <td>...</td>\n",
              "      <td>...</td>\n",
              "      <td>...</td>\n",
              "      <td>...</td>\n",
              "      <td>...</td>\n",
              "    </tr>\n",
              "    <tr>\n",
              "      <th>4995</th>\n",
              "      <td>False</td>\n",
              "      <td>False</td>\n",
              "      <td>False</td>\n",
              "      <td>False</td>\n",
              "      <td>False</td>\n",
              "      <td>False</td>\n",
              "      <td>False</td>\n",
              "      <td>False</td>\n",
              "      <td>False</td>\n",
              "      <td>False</td>\n",
              "      <td>False</td>\n",
              "      <td>False</td>\n",
              "    </tr>\n",
              "    <tr>\n",
              "      <th>4996</th>\n",
              "      <td>False</td>\n",
              "      <td>False</td>\n",
              "      <td>False</td>\n",
              "      <td>False</td>\n",
              "      <td>False</td>\n",
              "      <td>False</td>\n",
              "      <td>False</td>\n",
              "      <td>False</td>\n",
              "      <td>False</td>\n",
              "      <td>False</td>\n",
              "      <td>False</td>\n",
              "      <td>False</td>\n",
              "    </tr>\n",
              "    <tr>\n",
              "      <th>4997</th>\n",
              "      <td>False</td>\n",
              "      <td>False</td>\n",
              "      <td>False</td>\n",
              "      <td>False</td>\n",
              "      <td>False</td>\n",
              "      <td>False</td>\n",
              "      <td>False</td>\n",
              "      <td>False</td>\n",
              "      <td>False</td>\n",
              "      <td>False</td>\n",
              "      <td>False</td>\n",
              "      <td>False</td>\n",
              "    </tr>\n",
              "    <tr>\n",
              "      <th>4998</th>\n",
              "      <td>False</td>\n",
              "      <td>False</td>\n",
              "      <td>False</td>\n",
              "      <td>False</td>\n",
              "      <td>False</td>\n",
              "      <td>False</td>\n",
              "      <td>False</td>\n",
              "      <td>False</td>\n",
              "      <td>False</td>\n",
              "      <td>False</td>\n",
              "      <td>False</td>\n",
              "      <td>False</td>\n",
              "    </tr>\n",
              "    <tr>\n",
              "      <th>4999</th>\n",
              "      <td>False</td>\n",
              "      <td>False</td>\n",
              "      <td>False</td>\n",
              "      <td>False</td>\n",
              "      <td>False</td>\n",
              "      <td>False</td>\n",
              "      <td>False</td>\n",
              "      <td>False</td>\n",
              "      <td>False</td>\n",
              "      <td>False</td>\n",
              "      <td>False</td>\n",
              "      <td>False</td>\n",
              "    </tr>\n",
              "  </tbody>\n",
              "</table>\n",
              "<p>5000 rows × 12 columns</p>\n",
              "</div>"
            ],
            "text/plain": [
              "      Unnamed: 0   step   type  ...  newbalanceDest  isFraud  isFlaggedFraud\n",
              "0          False  False  False  ...           False    False           False\n",
              "1          False  False  False  ...           False    False           False\n",
              "2          False  False  False  ...           False    False           False\n",
              "3          False  False  False  ...           False    False           False\n",
              "4          False  False  False  ...           False    False           False\n",
              "...          ...    ...    ...  ...             ...      ...             ...\n",
              "4995       False  False  False  ...           False    False           False\n",
              "4996       False  False  False  ...           False    False           False\n",
              "4997       False  False  False  ...           False    False           False\n",
              "4998       False  False  False  ...           False    False           False\n",
              "4999       False  False  False  ...           False    False           False\n",
              "\n",
              "[5000 rows x 12 columns]"
            ]
          },
          "metadata": {},
          "execution_count": 44
        }
      ]
    },
    {
      "cell_type": "code",
      "metadata": {
        "colab": {
          "base_uri": "https://localhost:8080/"
        },
        "id": "s52OtiFqI76u",
        "outputId": "0fd4bb7f-595e-430e-e27a-a14b8e84fb0c"
      },
      "source": [
        "df.isna().sum()"
      ],
      "execution_count": 45,
      "outputs": [
        {
          "output_type": "execute_result",
          "data": {
            "text/plain": [
              "Unnamed: 0        0\n",
              "step              0\n",
              "type              0\n",
              "amount            0\n",
              "nameOrig          0\n",
              "oldbalanceOrg     0\n",
              "newbalanceOrig    0\n",
              "nameDest          0\n",
              "oldbalanceDest    0\n",
              "newbalanceDest    0\n",
              "isFraud           0\n",
              "isFlaggedFraud    0\n",
              "dtype: int64"
            ]
          },
          "metadata": {},
          "execution_count": 45
        }
      ]
    },
    {
      "cell_type": "code",
      "metadata": {
        "colab": {
          "base_uri": "https://localhost:8080/"
        },
        "id": "LEB7ERoJJdN_",
        "outputId": "2a21f146-8a23-415f-faf2-83ac64748f7e"
      },
      "source": [
        "df.isnull().mean()*100"
      ],
      "execution_count": 46,
      "outputs": [
        {
          "output_type": "execute_result",
          "data": {
            "text/plain": [
              "Unnamed: 0        0.0\n",
              "step              0.0\n",
              "type              0.0\n",
              "amount            0.0\n",
              "nameOrig          0.0\n",
              "oldbalanceOrg     0.0\n",
              "newbalanceOrig    0.0\n",
              "nameDest          0.0\n",
              "oldbalanceDest    0.0\n",
              "newbalanceDest    0.0\n",
              "isFraud           0.0\n",
              "isFlaggedFraud    0.0\n",
              "dtype: float64"
            ]
          },
          "metadata": {},
          "execution_count": 46
        }
      ]
    },
    {
      "cell_type": "markdown",
      "metadata": {
        "id": "sn8y91UqKHqw"
      },
      "source": [
        "Q10-Q17 le dataset ne contient pas des valeurs manquantes"
      ]
    },
    {
      "cell_type": "markdown",
      "metadata": {
        "id": "E1Kx2AdkMLlB"
      },
      "source": [
        "**TP3: Feature engineering**"
      ]
    },
    {
      "cell_type": "markdown",
      "metadata": {
        "id": "VMDqFCOUL8q3"
      },
      "source": [
        "Feature engineering of _numeric_ attributes\n",
        "\n",
        "Answer the following questions.\n",
        "\n",
        "1. create a new data frame called `my_df_numeric` that only contains the 5 variables in the list `numeric_vars_sub` defined below.\n",
        "\n",
        "2. plot the distribution of these variables using boxplot or histogram. Which of these variables are very skewed (ie. asymmetric)?\n",
        "\n",
        "3. apply min-max normalization **only on** the non-skewed variables; put the result in a new column in `my_df_numeric` called `<var_name>_scaled`\n",
        "\n",
        "4. what are the minimum and maximum values of the variables obtained after the previous step? Use the `describe` method ...\n",
        "\n",
        "5. apply log normalization only on the skewed variables **followed by** the min-max normalization; put the result in a new column in `my_df_numeric` called `<var_name>_log_scaled`.\n",
        "\n",
        "6. plot the distributions of the 5 new variables that you created in the previous steps. You can use either a boxplot or a histogram. **Hint**: use a `for` loop ..."
      ]
    },
    {
      "cell_type": "code",
      "metadata": {
        "colab": {
          "base_uri": "https://localhost:8080/"
        },
        "id": "e4JPU24hMpbG",
        "outputId": "f8032017-b7da-41ff-8532-35b69db811db"
      },
      "source": [
        "numeric_vars_sub=['amount','oldbalanceOrg','newbalanceOrig','oldbalanceDest','newbalanceDest']\n",
        "my_df_numeric=df[numeric_vars_sub].copy()\n",
        "my_df_numeric.shape"
      ],
      "execution_count": 47,
      "outputs": [
        {
          "output_type": "execute_result",
          "data": {
            "text/plain": [
              "(5000, 5)"
            ]
          },
          "metadata": {},
          "execution_count": 47
        }
      ]
    },
    {
      "cell_type": "code",
      "metadata": {
        "colab": {
          "base_uri": "https://localhost:8080/",
          "height": 276
        },
        "id": "cuJV4CHsNVSG",
        "outputId": "bfcebedb-e3fc-480b-df04-d4500c2e7119"
      },
      "source": [
        "fig=my_df_numeric.amount.plot.box()"
      ],
      "execution_count": 48,
      "outputs": [
        {
          "output_type": "display_data",
          "data": {
            "image/png": "[encoded data removed]",
            "text/plain": [
              "<Figure size 432x288 with 1 Axes>"
            ]
          },
          "metadata": {
            "needs_background": "light"
          }
        }
      ]
    },
    {
      "cell_type": "code",
      "metadata": {
        "colab": {
          "base_uri": "https://localhost:8080/",
          "height": 276
        },
        "id": "0-JJFBaENlE3",
        "outputId": "49f5e226-17af-4992-f3bb-4a7c2e4594bf"
      },
      "source": [
        "fig=my_df_numeric.oldbalanceOrg.plot.box()"
      ],
      "execution_count": 49,
      "outputs": [
        {
          "output_type": "display_data",
          "data": {
            "image/png": "[encoded data removed]",
            "text/plain": [
              "<Figure size 432x288 with 1 Axes>"
            ]
          },
          "metadata": {
            "needs_background": "light"
          }
        }
      ]
    },
    {
      "cell_type": "code",
      "metadata": {
        "colab": {
          "base_uri": "https://localhost:8080/",
          "height": 276
        },
        "id": "u9qQvOCqNsBL",
        "outputId": "ea41b062-0d39-40ac-c77e-845f123102d9"
      },
      "source": [
        "fig=my_df_numeric.newbalanceOrig.plot.box()"
      ],
      "execution_count": 50,
      "outputs": [
        {
          "output_type": "display_data",
          "data": {
            "image/png": "[encoded data removed]",
            "text/plain": [
              "<Figure size 432x288 with 1 Axes>"
            ]
          },
          "metadata": {
            "needs_background": "light"
          }
        }
      ]
    },
    {
      "cell_type": "code",
      "metadata": {
        "colab": {
          "base_uri": "https://localhost:8080/",
          "height": 276
        },
        "id": "S6oWkA_mN3yW",
        "outputId": "0fd9ae75-f9b9-40c1-c26a-68ea7ef621b1"
      },
      "source": [
        "fig=my_df_numeric.oldbalanceDest.plot.box()"
      ],
      "execution_count": 51,
      "outputs": [
        {
          "output_type": "display_data",
          "data": {
            "image/png": "[encoded data removed]",
            "text/plain": [
              "<Figure size 432x288 with 1 Axes>"
            ]
          },
          "metadata": {
            "needs_background": "light"
          }
        }
      ]
    },
    {
      "cell_type": "code",
      "metadata": {
        "colab": {
          "base_uri": "https://localhost:8080/",
          "height": 276
        },
        "id": "BIADiBAPN-yn",
        "outputId": "d52ecdec-3cad-4bbb-f982-7e42176291c8"
      },
      "source": [
        "fig=my_df_numeric.newbalanceDest.plot.box()"
      ],
      "execution_count": 52,
      "outputs": [
        {
          "output_type": "display_data",
          "data": {
            "image/png": "[encoded data removed]",
            "text/plain": [
              "<Figure size 432x288 with 1 Axes>"
            ]
          },
          "metadata": {
            "needs_background": "light"
          }
        }
      ]
    },
    {
      "cell_type": "code",
      "metadata": {
        "colab": {
          "base_uri": "https://localhost:8080/",
          "height": 1000
        },
        "id": "bJV443ciP5Ce",
        "outputId": "b699fa82-bc36-45b8-87e3-c260959d7490"
      },
      "source": [
        "#ou bien \n",
        "fig1=my_df_numeric.hist()\n",
        "plt.show()\n",
        "\n",
        "for x in my_df_numeric:\n",
        "    my_df_numeric[x].plot.box()\n",
        "    plt.title(x)\n",
        "    plt.show()"
      ],
      "execution_count": 53,
      "outputs": [
        {
          "output_type": "display_data",
          "data": {
            "image/png": "[encoded data removed]",
            "text/plain": [
              "<Figure size 432x288 with 6 Axes>"
            ]
          },
          "metadata": {
            "needs_background": "light"
          }
        },
        {
          "output_type": "display_data",
          "data": {
            "image/png": "[encoded data removed]",
            "text/plain": [
              "<Figure size 432x288 with 1 Axes>"
            ]
          },
          "metadata": {
            "needs_background": "light"
          }
        },
        {
          "output_type": "display_data",
          "data": {
            "image/png": "[encoded data removed]",
            "text/plain": [
              "<Figure size 432x288 with 1 Axes>"
            ]
          },
          "metadata": {
            "needs_background": "light"
          }
        },
        {
          "output_type": "display_data",
          "data": {
            "image/png": "[encoded data removed]",
            "text/plain": [
              "<Figure size 432x288 with 1 Axes>"
            ]
          },
          "metadata": {
            "needs_background": "light"
          }
        },
        {
          "output_type": "display_data",
          "data": {
            "image/png": "[encoded data removed]",
            "text/plain": [
              "<Figure size 432x288 with 1 Axes>"
            ]
          },
          "metadata": {
            "needs_background": "light"
          }
        },
        {
          "output_type": "display_data",
          "data": {
            "image/png": "[encoded data removed]",
            "text/plain": [
              "<Figure size 432x288 with 1 Axes>"
            ]
          },
          "metadata": {
            "needs_background": "light"
          }
        }
      ]
    },
    {
      "cell_type": "code",
      "metadata": {
        "colab": {
          "base_uri": "https://localhost:8080/",
          "height": 293
        },
        "id": "sCFy16d-QJEE",
        "outputId": "a409ec78-6dbd-4534-d02e-fdca8ad0f1b2"
      },
      "source": [
        "#ou bien \n",
        "my_df_numeric.plot.box()"
      ],
      "execution_count": 54,
      "outputs": [
        {
          "output_type": "execute_result",
          "data": {
            "text/plain": [
              "<matplotlib.axes._subplots.AxesSubplot at 0x7fe652c15390>"
            ]
          },
          "metadata": {},
          "execution_count": 54
        },
        {
          "output_type": "display_data",
          "data": {
            "image/png": "[encoded data removed]",
            "text/plain": [
              "<Figure size 432x288 with 1 Axes>"
            ]
          },
          "metadata": {
            "needs_background": "light"
          }
        }
      ]
    },
    {
      "cell_type": "markdown",
      "metadata": {
        "id": "V6a-JpdVQekD"
      },
      "source": [
        "Q3-tous les variables sont asymetriques"
      ]
    },
    {
      "cell_type": "code",
      "metadata": {
        "id": "3lyIyo-4UgMP"
      },
      "source": [
        "skewed_vars=['amount','oldbalanceOrg','newbalanceOrig','oldbalanceDest','newbalanceDest']"
      ],
      "execution_count": 55,
      "outputs": []
    },
    {
      "cell_type": "code",
      "metadata": {
        "colab": {
          "base_uri": "https://localhost:8080/"
        },
        "id": "cxvE-oHBU1ru",
        "outputId": "f517796f-d77f-40d4-847d-a61d008a7eed"
      },
      "source": [
        "from sklearn.preprocessing import MinMaxScaler\n",
        "mms=MinMaxScaler()\n",
        "for x in skewed_vars:\n",
        "    x_new=x+'_log_scaled'\n",
        "    if my_df_numeric[x].min()<0:\n",
        "        u1=my_df_numeric['long'] - my_df_numeric['long'].min() + 1e-6\n",
        "    else:\n",
        "        u1=my_df_numeric[x]\n",
        "    v= np.log(u1)\n",
        "    v = v.replace([np.inf, -np.inf], np.nan)\n",
        "    u=mms.fit_transform(pd.DataFrame(v)).ravel()\n",
        "    my_df_numeric[x_new]=pd.Series(u)"
      ],
      "execution_count": 56,
      "outputs": [
        {
          "output_type": "stream",
          "name": "stderr",
          "text": [
            "/usr/local/lib/python3.7/dist-packages/pandas/core/series.py:726: RuntimeWarning: divide by zero encountered in log\n",
            "  result = getattr(ufunc, method)(*inputs, **kwargs)\n",
            "/usr/local/lib/python3.7/dist-packages/pandas/core/series.py:726: RuntimeWarning: divide by zero encountered in log\n",
            "  result = getattr(ufunc, method)(*inputs, **kwargs)\n",
            "/usr/local/lib/python3.7/dist-packages/pandas/core/series.py:726: RuntimeWarning: divide by zero encountered in log\n",
            "  result = getattr(ufunc, method)(*inputs, **kwargs)\n",
            "/usr/local/lib/python3.7/dist-packages/pandas/core/series.py:726: RuntimeWarning: divide by zero encountered in log\n",
            "  result = getattr(ufunc, method)(*inputs, **kwargs)\n"
          ]
        }
      ]
    },
    {
      "cell_type": "code",
      "metadata": {
        "colab": {
          "base_uri": "https://localhost:8080/",
          "height": 274
        },
        "id": "e62tE0WudA4b",
        "outputId": "0b5d52b0-5c62-439e-e95f-14994672aa1b"
      },
      "source": [
        "fig = my_df_numeric.amount_log_scaled.plot.hist(rot=50)"
      ],
      "execution_count": 57,
      "outputs": [
        {
          "output_type": "display_data",
          "data": {
            "image/png": "[encoded data removed]",
            "text/plain": [
              "<Figure size 432x288 with 1 Axes>"
            ]
          },
          "metadata": {
            "needs_background": "light"
          }
        }
      ]
    },
    {
      "cell_type": "code",
      "metadata": {
        "colab": {
          "base_uri": "https://localhost:8080/",
          "height": 274
        },
        "id": "CCa9QXfndGK1",
        "outputId": "741a581f-6b5a-4380-aa4c-397194e0bce3"
      },
      "source": [
        "fig = my_df_numeric.oldbalanceOrg_log_scaled.plot.hist(rot=50)"
      ],
      "execution_count": 58,
      "outputs": [
        {
          "output_type": "display_data",
          "data": {
            "image/png": "[encoded data removed]",
            "text/plain": [
              "<Figure size 432x288 with 1 Axes>"
            ]
          },
          "metadata": {
            "needs_background": "light"
          }
        }
      ]
    },
    {
      "cell_type": "code",
      "metadata": {
        "colab": {
          "base_uri": "https://localhost:8080/",
          "height": 274
        },
        "id": "iwhm7f4GdMp4",
        "outputId": "982707d2-d701-4235-e9d8-884a1fcd214a"
      },
      "source": [
        "fig = my_df_numeric.newbalanceOrig_log_scaled.plot.hist(rot=50)"
      ],
      "execution_count": 59,
      "outputs": [
        {
          "output_type": "display_data",
          "data": {
            "image/png": "[encoded data removed]",
            "text/plain": [
              "<Figure size 432x288 with 1 Axes>"
            ]
          },
          "metadata": {
            "needs_background": "light"
          }
        }
      ]
    },
    {
      "cell_type": "code",
      "metadata": {
        "colab": {
          "base_uri": "https://localhost:8080/",
          "height": 274
        },
        "id": "PLQpqsYndPAb",
        "outputId": "e20ba413-a1d2-4bcf-93fe-3dceb53dd5ec"
      },
      "source": [
        "fig = my_df_numeric.oldbalanceDest_log_scaled.plot.hist(rot=50)"
      ],
      "execution_count": 60,
      "outputs": [
        {
          "output_type": "display_data",
          "data": {
            "image/png": "[encoded data removed]",
            "text/plain": [
              "<Figure size 432x288 with 1 Axes>"
            ]
          },
          "metadata": {
            "needs_background": "light"
          }
        }
      ]
    },
    {
      "cell_type": "code",
      "metadata": {
        "colab": {
          "base_uri": "https://localhost:8080/",
          "height": 274
        },
        "id": "CZq6MnxadP4z",
        "outputId": "64f93dc1-234f-4861-c1e5-b917f6114954"
      },
      "source": [
        "fig = my_df_numeric.newbalanceDest_log_scaled.plot.hist(rot=50)"
      ],
      "execution_count": 61,
      "outputs": [
        {
          "output_type": "display_data",
          "data": {
            "image/png": "[encoded data removed]",
            "text/plain": [
              "<Figure size 432x288 with 1 Axes>"
            ]
          },
          "metadata": {
            "needs_background": "light"
          }
        }
      ]
    },
    {
      "cell_type": "markdown",
      "metadata": {
        "id": "OQbksdLZd-DN"
      },
      "source": [
        "#Q7\n",
        "#Ils ont meme intervalle et pas forcement on aura des variables symetriques aprés log normalization"
      ]
    },
    {
      "cell_type": "markdown",
      "metadata": {
        "id": "IXRQGAiteMKc"
      },
      "source": [
        "Feature engineering of _categorical_ attributes\n",
        "\n",
        "The following questions are about the `view` variable which is *categorical* (see the data summary at the top of this file).\n",
        "\n",
        "1. What are the two least frequent categories in this variable?  *Hint*: call the `value_counts` method ...\n",
        "\n",
        "2. Plot the distribution of this variable as a **bar plot**.  *But be careful*: you should first call `value_counts` before calling `plot` ...\n",
        "\n",
        "3. Combine the two smallest categories into a single category having value 6. Put the result in the same column (that is, do not create a new column). You can verify your result by calling the `value_counts` method again ...\n",
        "\n",
        "4. Apply **one-hot encoding** on this attribute. Put the result in a new data frame called `view_one_hot_df`.\n",
        "\n",
        "5. Verify the shape of this new data frame.\n",
        "\n",
        "6. Verify the contents of this new data frame by calling `describe`."
      ]
    },
    {
      "cell_type": "code",
      "metadata": {
        "colab": {
          "base_uri": "https://localhost:8080/"
        },
        "id": "H_04aTuCeQ61",
        "outputId": "d2fb715e-cd9b-49d3-c9c2-52741c99fea9"
      },
      "source": [
        "#Q1\n",
        "df.type.value_counts()"
      ],
      "execution_count": 62,
      "outputs": [
        {
          "output_type": "execute_result",
          "data": {
            "text/plain": [
              "PAYMENT     2587\n",
              "CASH_IN     1082\n",
              "CASH_OUT     631\n",
              "TRANSFER     437\n",
              "DEBIT        263\n",
              "Name: type, dtype: int64"
            ]
          },
          "metadata": {},
          "execution_count": 62
        }
      ]
    },
    {
      "cell_type": "code",
      "metadata": {
        "colab": {
          "base_uri": "https://localhost:8080/",
          "height": 326
        },
        "id": "yL0cjF2RfsHO",
        "outputId": "1c7a89d4-4fa9-45bd-951b-cb76db61f49b"
      },
      "source": [
        "#Q2\n",
        "df.type.value_counts().plot.bar()"
      ],
      "execution_count": 63,
      "outputs": [
        {
          "output_type": "execute_result",
          "data": {
            "text/plain": [
              "<matplotlib.axes._subplots.AxesSubplot at 0x7fe62badab10>"
            ]
          },
          "metadata": {},
          "execution_count": 63
        },
        {
          "output_type": "display_data",
          "data": {
            "image/png": "[encoded data removed]",
            "text/plain": [
              "<Figure size 432x288 with 1 Axes>"
            ]
          },
          "metadata": {
            "needs_background": "light"
          }
        }
      ]
    },
    {
      "cell_type": "code",
      "metadata": {
        "colab": {
          "base_uri": "https://localhost:8080/"
        },
        "id": "SbCsdu5ef0x-",
        "outputId": "6b59cfd2-0fb2-4b5c-eaf9-202d13bf39a5"
      },
      "source": [
        "#Q3\n",
        "u=df.type.value_counts()\n",
        "u\n"
      ],
      "execution_count": 64,
      "outputs": [
        {
          "output_type": "execute_result",
          "data": {
            "text/plain": [
              "PAYMENT     2587\n",
              "CASH_IN     1082\n",
              "CASH_OUT     631\n",
              "TRANSFER     437\n",
              "DEBIT        263\n",
              "Name: type, dtype: int64"
            ]
          },
          "metadata": {},
          "execution_count": 64
        }
      ]
    },
    {
      "cell_type": "code",
      "metadata": {
        "colab": {
          "base_uri": "https://localhost:8080/"
        },
        "id": "c8ISL7jOf7Je",
        "outputId": "fad0a318-4502-4606-9b95-072ae56f2b1b"
      },
      "source": [
        "u.tail(2).index"
      ],
      "execution_count": 65,
      "outputs": [
        {
          "output_type": "execute_result",
          "data": {
            "text/plain": [
              "Index(['TRANSFER', 'DEBIT'], dtype='object')"
            ]
          },
          "metadata": {},
          "execution_count": 65
        }
      ]
    },
    {
      "cell_type": "code",
      "metadata": {
        "colab": {
          "base_uri": "https://localhost:8080/"
        },
        "id": "aeV__M6mgJfT",
        "outputId": "8d25aafe-ee59-47f5-c844-cac005b07218"
      },
      "source": [
        "idx = df.type.isin(u.tail(2).index)\n",
        "df.loc[idx,'type']=6\n",
        "\n",
        "df.type.value_counts()"
      ],
      "execution_count": 66,
      "outputs": [
        {
          "output_type": "execute_result",
          "data": {
            "text/plain": [
              "PAYMENT     2587\n",
              "CASH_IN     1082\n",
              "6            700\n",
              "CASH_OUT     631\n",
              "Name: type, dtype: int64"
            ]
          },
          "metadata": {},
          "execution_count": 66
        }
      ]
    },
    {
      "cell_type": "code",
      "metadata": {
        "colab": {
          "base_uri": "https://localhost:8080/"
        },
        "id": "n6s-vjLogiEZ",
        "outputId": "52fe7683-a9cc-40d2-8752-509c42655b73"
      },
      "source": [
        "#Q4\n",
        "print(df[\"type\"])"
      ],
      "execution_count": 67,
      "outputs": [
        {
          "output_type": "stream",
          "name": "stdout",
          "text": [
            "0        PAYMENT\n",
            "1        PAYMENT\n",
            "2              6\n",
            "3       CASH_OUT\n",
            "4        PAYMENT\n",
            "          ...   \n",
            "4995     CASH_IN\n",
            "4996     CASH_IN\n",
            "4997     CASH_IN\n",
            "4998     CASH_IN\n",
            "4999     CASH_IN\n",
            "Name: type, Length: 5000, dtype: object\n"
          ]
        }
      ]
    },
    {
      "cell_type": "code",
      "metadata": {
        "colab": {
          "base_uri": "https://localhost:8080/",
          "height": 206
        },
        "id": "NuggB_3pgq5e",
        "outputId": "ac7fe87a-dfe2-41e4-fb7e-82110df0940d"
      },
      "source": [
        "type_one_hot_df=pd.get_dummies(df['type'])\n",
        "type_one_hot_df.head()"
      ],
      "execution_count": 68,
      "outputs": [
        {
          "output_type": "execute_result",
          "data": {
            "text/html": [
              "<div>\n",
              "<style scoped>\n",
              "    .dataframe tbody tr th:only-of-type {\n",
              "        vertical-align: middle;\n",
              "    }\n",
              "\n",
              "    .dataframe tbody tr th {\n",
              "        vertical-align: top;\n",
              "    }\n",
              "\n",
              "    .dataframe thead th {\n",
              "        text-align: right;\n",
              "    }\n",
              "</style>\n",
              "<table border=\"1\" class=\"dataframe\">\n",
              "  <thead>\n",
              "    <tr style=\"text-align: right;\">\n",
              "      <th></th>\n",
              "      <th>6</th>\n",
              "      <th>CASH_IN</th>\n",
              "      <th>CASH_OUT</th>\n",
              "      <th>PAYMENT</th>\n",
              "    </tr>\n",
              "  </thead>\n",
              "  <tbody>\n",
              "    <tr>\n",
              "      <th>0</th>\n",
              "      <td>0</td>\n",
              "      <td>0</td>\n",
              "      <td>0</td>\n",
              "      <td>1</td>\n",
              "    </tr>\n",
              "    <tr>\n",
              "      <th>1</th>\n",
              "      <td>0</td>\n",
              "      <td>0</td>\n",
              "      <td>0</td>\n",
              "      <td>1</td>\n",
              "    </tr>\n",
              "    <tr>\n",
              "      <th>2</th>\n",
              "      <td>1</td>\n",
              "      <td>0</td>\n",
              "      <td>0</td>\n",
              "      <td>0</td>\n",
              "    </tr>\n",
              "    <tr>\n",
              "      <th>3</th>\n",
              "      <td>0</td>\n",
              "      <td>0</td>\n",
              "      <td>1</td>\n",
              "      <td>0</td>\n",
              "    </tr>\n",
              "    <tr>\n",
              "      <th>4</th>\n",
              "      <td>0</td>\n",
              "      <td>0</td>\n",
              "      <td>0</td>\n",
              "      <td>1</td>\n",
              "    </tr>\n",
              "  </tbody>\n",
              "</table>\n",
              "</div>"
            ],
            "text/plain": [
              "   6  CASH_IN  CASH_OUT  PAYMENT\n",
              "0  0        0         0        1\n",
              "1  0        0         0        1\n",
              "2  1        0         0        0\n",
              "3  0        0         1        0\n",
              "4  0        0         0        1"
            ]
          },
          "metadata": {},
          "execution_count": 68
        }
      ]
    },
    {
      "cell_type": "code",
      "metadata": {
        "colab": {
          "base_uri": "https://localhost:8080/"
        },
        "id": "w1LaEmLbg1nD",
        "outputId": "4099b9ea-8bcd-44d5-c28a-27e80d67a9c0"
      },
      "source": [
        "#Q5\n",
        "type_one_hot_df.shape"
      ],
      "execution_count": 69,
      "outputs": [
        {
          "output_type": "execute_result",
          "data": {
            "text/plain": [
              "(5000, 4)"
            ]
          },
          "metadata": {},
          "execution_count": 69
        }
      ]
    },
    {
      "cell_type": "code",
      "metadata": {
        "colab": {
          "base_uri": "https://localhost:8080/",
          "height": 300
        },
        "id": "e2T0-ppBg_fl",
        "outputId": "8b42dc67-b34a-4d2b-ff41-f544104d6505"
      },
      "source": [
        "#Q6\n",
        "type_one_hot_df.describe()"
      ],
      "execution_count": 70,
      "outputs": [
        {
          "output_type": "execute_result",
          "data": {
            "text/html": [
              "<div>\n",
              "<style scoped>\n",
              "    .dataframe tbody tr th:only-of-type {\n",
              "        vertical-align: middle;\n",
              "    }\n",
              "\n",
              "    .dataframe tbody tr th {\n",
              "        vertical-align: top;\n",
              "    }\n",
              "\n",
              "    .dataframe thead th {\n",
              "        text-align: right;\n",
              "    }\n",
              "</style>\n",
              "<table border=\"1\" class=\"dataframe\">\n",
              "  <thead>\n",
              "    <tr style=\"text-align: right;\">\n",
              "      <th></th>\n",
              "      <th>6</th>\n",
              "      <th>CASH_IN</th>\n",
              "      <th>CASH_OUT</th>\n",
              "      <th>PAYMENT</th>\n",
              "    </tr>\n",
              "  </thead>\n",
              "  <tbody>\n",
              "    <tr>\n",
              "      <th>count</th>\n",
              "      <td>5000.000000</td>\n",
              "      <td>5000.000000</td>\n",
              "      <td>5000.000000</td>\n",
              "      <td>5000.000000</td>\n",
              "    </tr>\n",
              "    <tr>\n",
              "      <th>mean</th>\n",
              "      <td>0.140000</td>\n",
              "      <td>0.216400</td>\n",
              "      <td>0.126200</td>\n",
              "      <td>0.517400</td>\n",
              "    </tr>\n",
              "    <tr>\n",
              "      <th>std</th>\n",
              "      <td>0.347022</td>\n",
              "      <td>0.411831</td>\n",
              "      <td>0.332108</td>\n",
              "      <td>0.499747</td>\n",
              "    </tr>\n",
              "    <tr>\n",
              "      <th>min</th>\n",
              "      <td>0.000000</td>\n",
              "      <td>0.000000</td>\n",
              "      <td>0.000000</td>\n",
              "      <td>0.000000</td>\n",
              "    </tr>\n",
              "    <tr>\n",
              "      <th>25%</th>\n",
              "      <td>0.000000</td>\n",
              "      <td>0.000000</td>\n",
              "      <td>0.000000</td>\n",
              "      <td>0.000000</td>\n",
              "    </tr>\n",
              "    <tr>\n",
              "      <th>50%</th>\n",
              "      <td>0.000000</td>\n",
              "      <td>0.000000</td>\n",
              "      <td>0.000000</td>\n",
              "      <td>1.000000</td>\n",
              "    </tr>\n",
              "    <tr>\n",
              "      <th>75%</th>\n",
              "      <td>0.000000</td>\n",
              "      <td>0.000000</td>\n",
              "      <td>0.000000</td>\n",
              "      <td>1.000000</td>\n",
              "    </tr>\n",
              "    <tr>\n",
              "      <th>max</th>\n",
              "      <td>1.000000</td>\n",
              "      <td>1.000000</td>\n",
              "      <td>1.000000</td>\n",
              "      <td>1.000000</td>\n",
              "    </tr>\n",
              "  </tbody>\n",
              "</table>\n",
              "</div>"
            ],
            "text/plain": [
              "                 6      CASH_IN     CASH_OUT      PAYMENT\n",
              "count  5000.000000  5000.000000  5000.000000  5000.000000\n",
              "mean      0.140000     0.216400     0.126200     0.517400\n",
              "std       0.347022     0.411831     0.332108     0.499747\n",
              "min       0.000000     0.000000     0.000000     0.000000\n",
              "25%       0.000000     0.000000     0.000000     0.000000\n",
              "50%       0.000000     0.000000     0.000000     1.000000\n",
              "75%       0.000000     0.000000     0.000000     1.000000\n",
              "max       1.000000     1.000000     1.000000     1.000000"
            ]
          },
          "metadata": {},
          "execution_count": 70
        }
      ]
    },
    {
      "cell_type": "markdown",
      "metadata": {
        "id": "9YBtNZMVkV7q"
      },
      "source": [
        "# Training and Evaluating Machine Learning Model\n",
        "We have clean data we can now build a Ml model. I choose Linear regression model to predict wheither an observation is fraud or not . The output is a categorical format (0 or 1) so we will use supervised classification machine learning algorithms.\n",
        "we have to train and test the dataset "
      ]
    },
    {
      "cell_type": "code",
      "metadata": {
        "colab": {
          "base_uri": "https://localhost:8080/"
        },
        "id": "vmvopz-hicxu",
        "outputId": "e98a7261-b296-4165-b237-937d71831f32"
      },
      "source": [
        "#define X variables and our target(y)\n",
        "X = df.drop(['isFraud','type','nameOrig','nameDest'],axis=1).values\n",
        "y= df['isFraud'].values\n",
        "#normalization\n",
        "from sklearn.preprocessing import StandardScaler\n",
        "scaler = StandardScaler()\n",
        "X_scaled = scaler.fit_transform(X)\n",
        "#split Train and Test\n",
        "from sklearn.model_selection import train_test_split\n",
        "X_train,X_test,y_train,y_test = train_test_split(X_scaled,y,test_size=0.25,random_state=42)\n",
        "X_train.shape,X_test.shape,y_train.shape,y_test.shape"
      ],
      "execution_count": 71,
      "outputs": [
        {
          "output_type": "execute_result",
          "data": {
            "text/plain": [
              "((3750, 8), (1250, 8), (3750,), (1250,))"
            ]
          },
          "metadata": {},
          "execution_count": 71
        }
      ]
    },
    {
      "cell_type": "code",
      "metadata": {
        "colab": {
          "base_uri": "https://localhost:8080/"
        },
        "id": "_vObmhRljgxt",
        "outputId": "853e9869-fcd2-42b8-96ac-ae3cb7cb89af"
      },
      "source": [
        "from sklearn.linear_model import LogisticRegression\n",
        "from sklearn.model_selection import GridSearchCV\n",
        "from sklearn.metrics import classification_report, confusion_matrix\n",
        "grid = {\"C\":np.logspace(-3,3,7), \"penalty\": [\"l1\",\"l2\"]}\n",
        "logreg = LogisticRegression()\n",
        "logreg_cv = GridSearchCV(logreg, grid , cv= 10 ,scoring='recall')\n",
        "logreg_cv.fit(X_train , y_train)\n",
        "print(\"tuned hyperparameters :(best parameters) \",logreg_cv.best_params_)\n",
        "print(\"accuracy :\",logreg_cv.best_score_)"
      ],
      "execution_count": 72,
      "outputs": [
        {
          "output_type": "stream",
          "name": "stdout",
          "text": [
            "tuned hyperparameters :(best parameters)  {'C': 1000.0, 'penalty': 'l2'}\n",
            "accuracy : 0.4333333333333333\n"
          ]
        },
        {
          "output_type": "stream",
          "name": "stderr",
          "text": [
            "/usr/local/lib/python3.7/dist-packages/sklearn/model_selection/_validation.py:372: FitFailedWarning: \n",
            "70 fits failed out of a total of 140.\n",
            "The score on these train-test partitions for these parameters will be set to nan.\n",
            "If these failures are not expected, you can try to debug them by setting error_score='raise'.\n",
            "\n",
            "Below are more details about the failures:\n",
            "--------------------------------------------------------------------------------\n",
            "70 fits failed with the following error:\n",
            "Traceback (most recent call last):\n",
            "  File \"/usr/local/lib/python3.7/dist-packages/sklearn/model_selection/_validation.py\", line 681, in _fit_and_score\n",
            "    estimator.fit(X_train, y_train, **fit_params)\n",
            "  File \"/usr/local/lib/python3.7/dist-packages/sklearn/linear_model/_logistic.py\", line 1461, in fit\n",
            "    solver = _check_solver(self.solver, self.penalty, self.dual)\n",
            "  File \"/usr/local/lib/python3.7/dist-packages/sklearn/linear_model/_logistic.py\", line 449, in _check_solver\n",
            "    % (solver, penalty)\n",
            "ValueError: Solver lbfgs supports only 'l2' or 'none' penalties, got l1 penalty.\n",
            "\n",
            "  warnings.warn(some_fits_failed_message, FitFailedWarning)\n",
            "/usr/local/lib/python3.7/dist-packages/sklearn/model_selection/_search.py:972: UserWarning: One or more of the test scores are non-finite: [       nan 0.                nan 0.03333333        nan 0.13333333\n",
            "        nan 0.13333333        nan 0.35              nan 0.35\n",
            "        nan 0.43333333]\n",
            "  category=UserWarning,\n"
          ]
        }
      ]
    },
    {
      "cell_type": "code",
      "metadata": {
        "colab": {
          "base_uri": "https://localhost:8080/",
          "height": 456
        },
        "id": "xd-bUYVxjwlo",
        "outputId": "c323edc6-77a1-4fc4-a113-b7f584ffefc8"
      },
      "source": [
        "#best model\n",
        "best_logreg=LogisticRegression(C=10, penalty=\"l2\")\n",
        "best_logreg.fit(X_train,y_train)\n",
        "y_pred= best_logreg.predict(X_test)\n",
        "cmG= confusion_matrix(y_test,y_pred)\n",
        "sns.heatmap(cmG,annot=True)\n",
        "print(classification_report(y_test,y_pred))\n",
        "print(confusion_matrix(y_test,y_pred))"
      ],
      "execution_count": 73,
      "outputs": [
        {
          "output_type": "stream",
          "name": "stdout",
          "text": [
            "              precision    recall  f1-score   support\n",
            "\n",
            "           0       0.99      1.00      0.99      1233\n",
            "           1       1.00      0.12      0.21        17\n",
            "\n",
            "    accuracy                           0.99      1250\n",
            "   macro avg       0.99      0.56      0.60      1250\n",
            "weighted avg       0.99      0.99      0.98      1250\n",
            "\n",
            "[[1233    0]\n",
            " [  15    2]]\n"
          ]
        },
        {
          "output_type": "display_data",
          "data": {
            "image/png": "[encoded data removed]",
            "text/plain": [
              "<Figure size 432x288 with 2 Axes>"
            ]
          },
          "metadata": {
            "needs_background": "light"
          }
        }
      ]
    }
  ]
}